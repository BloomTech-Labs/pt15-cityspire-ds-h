{
 "metadata": {
  "language_info": {
   "codemirror_mode": {
    "name": "ipython",
    "version": 3
   },
   "file_extension": ".py",
   "mimetype": "text/x-python",
   "name": "python",
   "nbconvert_exporter": "python",
   "pygments_lexer": "ipython3",
   "version": "3.8.5-final"
  },
  "orig_nbformat": 2,
  "kernelspec": {
   "name": "python3",
   "display_name": "Python 3",
   "language": "python"
  }
 },
 "nbformat": 4,
 "nbformat_minor": 2,
 "cells": [
  {
   "cell_type": "code",
   "execution_count": 81,
   "metadata": {},
   "outputs": [],
   "source": [
    "# imports\n",
    "import sys\n",
    "\n",
    "PATH = os.path.join(os.getcwd(), '..', '..', '.local', 'share', 'virtualenvs', 'cityspire-ds-h-NIlzhGdy', 'lib', 'python3.8', 'site-packages')\n",
    "sys.path.append(PATH)\n",
    "\n",
    "import os\n",
    "import pandas as pd\n",
    "import sqlalchemy"
   ]
  },
  {
   "cell_type": "code",
   "execution_count": 92,
   "metadata": {},
   "outputs": [],
   "source": [
    "# reading in the data\n",
    "crime_data_dict = {}\n",
    "rows_to_skip_dict = {'2010': 7,\n",
    "                    '2011': 7,\n",
    "                    '2012': 7,\n",
    "                    '2013': 10,\n",
    "                    '2014': 9,\n",
    "                    '2015': 10,\n",
    "                    '2016': 9,\n",
    "                    '2017': 10,\n",
    "                    '2018': 10,\n",
    "                    '2019': 8}\n",
    "for year in range(2010, 2020):\n",
    "    year = str(year)\n",
    "    FILE_PATH = os.path.join(os.getcwd(), '..', 'raw_data', f'city_crime_data_{year}.csv')\n",
    "    crime_data_dict[year] = pd.read_csv(FILE_PATH, skiprows=3, skipfooter=rows_to_skip_dict[year])\n",
    "    crime_data_dict[year].columns = ['state_name', 'city_name', 'violent_crime', 'murder_and_nonnegligent_homicide',\n",
    "                'rape', 'robbery', 'aggravated_assault', 'property_crime', 'burglary',\n",
    "                'larceny_theft', 'motor_vehicle_theft', 'arson']"
   ]
  },
  {
   "cell_type": "code",
   "execution_count": 93,
   "metadata": {},
   "outputs": [
    {
     "output_type": "execute_result",
     "data": {
      "text/plain": [
       "     state_name            city_name violent_crime  \\\n",
       "0      ALABAMA3               Hoover           114   \n",
       "1        ALASKA            Anchorage         3,581   \n",
       "2           NaN               Bethel           130   \n",
       "3           NaN  Bristol Bay Borough             2   \n",
       "4           NaN              Cordova             0   \n",
       "...         ...                  ...           ...   \n",
       "8100        NaN             Sheridan             9   \n",
       "8101        NaN         Thermopolis5            13   \n",
       "8102        NaN           Torrington            13   \n",
       "8103        NaN            Wheatland             7   \n",
       "8104        NaN              Worland             8   \n",
       "\n",
       "      murder_and_nonnegligent_homicide rape robbery aggravated_assault  \\\n",
       "0                                  4.0   15      27                 68   \n",
       "1                                 32.0  540     621              2,388   \n",
       "2                                  1.0   47       3                 79   \n",
       "3                                  0.0    0       0                  2   \n",
       "4                                  0.0    0       0                  0   \n",
       "...                                ...  ...     ...                ...   \n",
       "8100                               0.0    4       0                  5   \n",
       "8101                               0.0    0       0                 13   \n",
       "8102                               0.0    4       1                  8   \n",
       "8103                               0.0    1       0                  6   \n",
       "8104                               0.0    5       0                  3   \n",
       "\n",
       "     property_crime burglary larceny_theft motor_vehicle_theft arson  \n",
       "0             1,922      128         1,694                 100     2  \n",
       "1            12,261    1,692         9,038               1,531    93  \n",
       "2               132       20            84                  28    12  \n",
       "3                20        5             8                   7     0  \n",
       "4                 7        1             6                   0     0  \n",
       "...             ...      ...           ...                 ...   ...  \n",
       "8100            369       75           278                  16     3  \n",
       "8101             34        7            22                   5     0  \n",
       "8102             48        8            40                   0     0  \n",
       "8103             72       24            45                   3     0  \n",
       "8104             36        6            30                   0     0  \n",
       "\n",
       "[8105 rows x 12 columns]"
      ],
      "text/html": "<div>\n<style scoped>\n    .dataframe tbody tr th:only-of-type {\n        vertical-align: middle;\n    }\n\n    .dataframe tbody tr th {\n        vertical-align: top;\n    }\n\n    .dataframe thead th {\n        text-align: right;\n    }\n</style>\n<table border=\"1\" class=\"dataframe\">\n  <thead>\n    <tr style=\"text-align: right;\">\n      <th></th>\n      <th>state_name</th>\n      <th>city_name</th>\n      <th>violent_crime</th>\n      <th>murder_and_nonnegligent_homicide</th>\n      <th>rape</th>\n      <th>robbery</th>\n      <th>aggravated_assault</th>\n      <th>property_crime</th>\n      <th>burglary</th>\n      <th>larceny_theft</th>\n      <th>motor_vehicle_theft</th>\n      <th>arson</th>\n    </tr>\n  </thead>\n  <tbody>\n    <tr>\n      <th>0</th>\n      <td>ALABAMA3</td>\n      <td>Hoover</td>\n      <td>114</td>\n      <td>4.0</td>\n      <td>15</td>\n      <td>27</td>\n      <td>68</td>\n      <td>1,922</td>\n      <td>128</td>\n      <td>1,694</td>\n      <td>100</td>\n      <td>2</td>\n    </tr>\n    <tr>\n      <th>1</th>\n      <td>ALASKA</td>\n      <td>Anchorage</td>\n      <td>3,581</td>\n      <td>32.0</td>\n      <td>540</td>\n      <td>621</td>\n      <td>2,388</td>\n      <td>12,261</td>\n      <td>1,692</td>\n      <td>9,038</td>\n      <td>1,531</td>\n      <td>93</td>\n    </tr>\n    <tr>\n      <th>2</th>\n      <td>NaN</td>\n      <td>Bethel</td>\n      <td>130</td>\n      <td>1.0</td>\n      <td>47</td>\n      <td>3</td>\n      <td>79</td>\n      <td>132</td>\n      <td>20</td>\n      <td>84</td>\n      <td>28</td>\n      <td>12</td>\n    </tr>\n    <tr>\n      <th>3</th>\n      <td>NaN</td>\n      <td>Bristol Bay Borough</td>\n      <td>2</td>\n      <td>0.0</td>\n      <td>0</td>\n      <td>0</td>\n      <td>2</td>\n      <td>20</td>\n      <td>5</td>\n      <td>8</td>\n      <td>7</td>\n      <td>0</td>\n    </tr>\n    <tr>\n      <th>4</th>\n      <td>NaN</td>\n      <td>Cordova</td>\n      <td>0</td>\n      <td>0.0</td>\n      <td>0</td>\n      <td>0</td>\n      <td>0</td>\n      <td>7</td>\n      <td>1</td>\n      <td>6</td>\n      <td>0</td>\n      <td>0</td>\n    </tr>\n    <tr>\n      <th>...</th>\n      <td>...</td>\n      <td>...</td>\n      <td>...</td>\n      <td>...</td>\n      <td>...</td>\n      <td>...</td>\n      <td>...</td>\n      <td>...</td>\n      <td>...</td>\n      <td>...</td>\n      <td>...</td>\n      <td>...</td>\n    </tr>\n    <tr>\n      <th>8100</th>\n      <td>NaN</td>\n      <td>Sheridan</td>\n      <td>9</td>\n      <td>0.0</td>\n      <td>4</td>\n      <td>0</td>\n      <td>5</td>\n      <td>369</td>\n      <td>75</td>\n      <td>278</td>\n      <td>16</td>\n      <td>3</td>\n    </tr>\n    <tr>\n      <th>8101</th>\n      <td>NaN</td>\n      <td>Thermopolis5</td>\n      <td>13</td>\n      <td>0.0</td>\n      <td>0</td>\n      <td>0</td>\n      <td>13</td>\n      <td>34</td>\n      <td>7</td>\n      <td>22</td>\n      <td>5</td>\n      <td>0</td>\n    </tr>\n    <tr>\n      <th>8102</th>\n      <td>NaN</td>\n      <td>Torrington</td>\n      <td>13</td>\n      <td>0.0</td>\n      <td>4</td>\n      <td>1</td>\n      <td>8</td>\n      <td>48</td>\n      <td>8</td>\n      <td>40</td>\n      <td>0</td>\n      <td>0</td>\n    </tr>\n    <tr>\n      <th>8103</th>\n      <td>NaN</td>\n      <td>Wheatland</td>\n      <td>7</td>\n      <td>0.0</td>\n      <td>1</td>\n      <td>0</td>\n      <td>6</td>\n      <td>72</td>\n      <td>24</td>\n      <td>45</td>\n      <td>3</td>\n      <td>0</td>\n    </tr>\n    <tr>\n      <th>8104</th>\n      <td>NaN</td>\n      <td>Worland</td>\n      <td>8</td>\n      <td>0.0</td>\n      <td>5</td>\n      <td>0</td>\n      <td>3</td>\n      <td>36</td>\n      <td>6</td>\n      <td>30</td>\n      <td>0</td>\n      <td>0</td>\n    </tr>\n  </tbody>\n</table>\n<p>8105 rows × 12 columns</p>\n</div>"
     },
     "metadata": {},
     "execution_count": 93
    }
   ],
   "source": [
    "crime_data_dict['2019']"
   ]
  },
  {
   "cell_type": "code",
   "execution_count": 107,
   "metadata": {
    "tags": []
   },
   "outputs": [],
   "source": [
    "# data cleaning\n",
    "for key, df in crime_data_dict.items():\n",
    "    df['state_name'] = df['state_name'].fillna(method='ffill')\n",
    "    df['state_name'] = df['state_name'].apply(lambda x: ''.join([letter for letter in x if not letter.isdigit()]))\n",
    "    df['state_name'] = df['state_name'].apply(lambda x: x.capitalize())\n",
    "    df['city_name'] = df['city_name'].apply(lambda x: ''.join([letter for letter in str(x) if not letter.isdigit()]))\n",
    "    crime_data_dict[f'{key}'] = crime_data_dict[f'{key}'].fillna('n/a')\n",
    "    for column in df.columns[2:]:\n",
    "        crime_data_dict[f'{key}'][f'{column}'] = crime_data_dict[f'{key}'][f'{column}'].apply(lambda x: str(x))\n",
    "        crime_data_dict[f'{key}'][f'{column}'] = crime_data_dict[f'{key}'][f'{column}'].apply(\n",
    "            lambda x: float(x.replace(',', '')) if x != 'n/a' else x)\n"
   ]
  },
  {
   "cell_type": "code",
   "execution_count": 112,
   "metadata": {},
   "outputs": [
    {
     "output_type": "execute_result",
     "data": {
      "text/plain": [
       "float"
      ]
     },
     "metadata": {},
     "execution_count": 112
    }
   ],
   "source": [
    "# merging in city_id\n"
   ]
  },
  {
   "cell_type": "code",
   "execution_count": 73,
   "metadata": {},
   "outputs": [
    {
     "output_type": "execute_result",
     "data": {
      "text/plain": [
       "       city_id                                          city_name  \\\n",
       "0      0100124  Abbeville                                     ...   \n",
       "1      0100460  Adamsville                                    ...   \n",
       "2      0100484  Addison                                       ...   \n",
       "3      0100676  Akron                                         ...   \n",
       "4      0100820  Alabaster                                     ...   \n",
       "...        ...                                                ...   \n",
       "18248  5681300  Wamsutter                                     ...   \n",
       "18249  5683040  Wheatland                                     ...   \n",
       "18250  5684925  Worland                                       ...   \n",
       "18251  5685015  Wright                                        ...   \n",
       "18252  5686665  Yoder                                         ...   \n",
       "\n",
       "                                              state_name  \n",
       "0      Alabama                                       ...  \n",
       "1      Alabama                                       ...  \n",
       "2      Alabama                                       ...  \n",
       "3      Alabama                                       ...  \n",
       "4      Alabama                                       ...  \n",
       "...                                                  ...  \n",
       "18248  Wyoming                                       ...  \n",
       "18249  Wyoming                                       ...  \n",
       "18250  Wyoming                                       ...  \n",
       "18251  Wyoming                                       ...  \n",
       "18252  Wyoming                                       ...  \n",
       "\n",
       "[18253 rows x 3 columns]"
      ],
      "text/html": "<div>\n<style scoped>\n    .dataframe tbody tr th:only-of-type {\n        vertical-align: middle;\n    }\n\n    .dataframe tbody tr th {\n        vertical-align: top;\n    }\n\n    .dataframe thead th {\n        text-align: right;\n    }\n</style>\n<table border=\"1\" class=\"dataframe\">\n  <thead>\n    <tr style=\"text-align: right;\">\n      <th></th>\n      <th>city_id</th>\n      <th>city_name</th>\n      <th>state_name</th>\n    </tr>\n  </thead>\n  <tbody>\n    <tr>\n      <th>0</th>\n      <td>0100124</td>\n      <td>Abbeville                                     ...</td>\n      <td>Alabama                                       ...</td>\n    </tr>\n    <tr>\n      <th>1</th>\n      <td>0100460</td>\n      <td>Adamsville                                    ...</td>\n      <td>Alabama                                       ...</td>\n    </tr>\n    <tr>\n      <th>2</th>\n      <td>0100484</td>\n      <td>Addison                                       ...</td>\n      <td>Alabama                                       ...</td>\n    </tr>\n    <tr>\n      <th>3</th>\n      <td>0100676</td>\n      <td>Akron                                         ...</td>\n      <td>Alabama                                       ...</td>\n    </tr>\n    <tr>\n      <th>4</th>\n      <td>0100820</td>\n      <td>Alabaster                                     ...</td>\n      <td>Alabama                                       ...</td>\n    </tr>\n    <tr>\n      <th>...</th>\n      <td>...</td>\n      <td>...</td>\n      <td>...</td>\n    </tr>\n    <tr>\n      <th>18248</th>\n      <td>5681300</td>\n      <td>Wamsutter                                     ...</td>\n      <td>Wyoming                                       ...</td>\n    </tr>\n    <tr>\n      <th>18249</th>\n      <td>5683040</td>\n      <td>Wheatland                                     ...</td>\n      <td>Wyoming                                       ...</td>\n    </tr>\n    <tr>\n      <th>18250</th>\n      <td>5684925</td>\n      <td>Worland                                       ...</td>\n      <td>Wyoming                                       ...</td>\n    </tr>\n    <tr>\n      <th>18251</th>\n      <td>5685015</td>\n      <td>Wright                                        ...</td>\n      <td>Wyoming                                       ...</td>\n    </tr>\n    <tr>\n      <th>18252</th>\n      <td>5686665</td>\n      <td>Yoder                                         ...</td>\n      <td>Wyoming                                       ...</td>\n    </tr>\n  </tbody>\n</table>\n<p>18253 rows × 3 columns</p>\n</div>"
     },
     "metadata": {},
     "execution_count": 73
    }
   ],
   "source": [
    "DATABASE_URL = os.getenv('PRODUCTION_DATABASE_URL')\n",
    "query = '''\n",
    "        SELECT Cities.city_id, Cities.city_name, States.state_name\n",
    "        FROM CITIES\n",
    "        LEFT JOIN STATES ON CITIES.state_id=STATES.state_id\n",
    "        '''\n",
    "cities = pd.read_sql(query, DATABASE_URL)\n",
    "cities"
   ]
  },
  {
   "cell_type": "code",
   "execution_count": 74,
   "metadata": {},
   "outputs": [
    {
     "output_type": "execute_result",
     "data": {
      "text/plain": [
       "     state_name       city_name violent_crime  \\\n",
       "0       Alabama       Abbeville            18   \n",
       "1       Alabama      Adamsville            19   \n",
       "2       Alabama       Alabaster            92   \n",
       "3       Alabama     Albertville            24   \n",
       "4       Alabama  Alexander City           314   \n",
       "...         ...             ...           ...   \n",
       "9247    Wyoming        Sheridan            17   \n",
       "9248    Wyoming     Thermopolis            13   \n",
       "9249    Wyoming      Torrington            35   \n",
       "9250    Wyoming       Wheatland             3   \n",
       "9251    Wyoming         Worland             2   \n",
       "\n",
       "     murder_and_nonnegligent_homicide rape robbery aggravated_assault  \\\n",
       "0                                   0    2       0                 16   \n",
       "1                                   0    1       4                 14   \n",
       "2                                   0    2      10                 80   \n",
       "3                                   0    6      10                  8   \n",
       "4                                   2    5      15                292   \n",
       "...                               ...  ...     ...                ...   \n",
       "9247                                1    2       0                 14   \n",
       "9248                                0    0       0                 13   \n",
       "9249                                0    0       0                 35   \n",
       "9250                                0    0       0                  3   \n",
       "9251                                0    2       0                  0   \n",
       "\n",
       "     property_crime burglary larceny_theft motor_vehicle_theft arson  city_id  \n",
       "0                49       14            33                   2   n/a        2  \n",
       "1               289       42           230                  17   n/a        2  \n",
       "2               579       56           497                  26   n/a        2  \n",
       "3               802      194           492                 116   n/a        2  \n",
       "4               610       92           484                  34   n/a        2  \n",
       "...             ...      ...           ...                 ...   ...      ...  \n",
       "9247            313       39           261                  13     1        2  \n",
       "9248             64       10            48                   6     0        2  \n",
       "9249             73       12            57                   4     0        2  \n",
       "9250             56       19            33                   4     0        2  \n",
       "9251             69       18            46                   5     1        2  \n",
       "\n",
       "[9252 rows x 13 columns]"
      ],
      "text/html": "<div>\n<style scoped>\n    .dataframe tbody tr th:only-of-type {\n        vertical-align: middle;\n    }\n\n    .dataframe tbody tr th {\n        vertical-align: top;\n    }\n\n    .dataframe thead th {\n        text-align: right;\n    }\n</style>\n<table border=\"1\" class=\"dataframe\">\n  <thead>\n    <tr style=\"text-align: right;\">\n      <th></th>\n      <th>state_name</th>\n      <th>city_name</th>\n      <th>violent_crime</th>\n      <th>murder_and_nonnegligent_homicide</th>\n      <th>rape</th>\n      <th>robbery</th>\n      <th>aggravated_assault</th>\n      <th>property_crime</th>\n      <th>burglary</th>\n      <th>larceny_theft</th>\n      <th>motor_vehicle_theft</th>\n      <th>arson</th>\n      <th>city_id</th>\n    </tr>\n  </thead>\n  <tbody>\n    <tr>\n      <th>0</th>\n      <td>Alabama</td>\n      <td>Abbeville</td>\n      <td>18</td>\n      <td>0</td>\n      <td>2</td>\n      <td>0</td>\n      <td>16</td>\n      <td>49</td>\n      <td>14</td>\n      <td>33</td>\n      <td>2</td>\n      <td>n/a</td>\n      <td>2</td>\n    </tr>\n    <tr>\n      <th>1</th>\n      <td>Alabama</td>\n      <td>Adamsville</td>\n      <td>19</td>\n      <td>0</td>\n      <td>1</td>\n      <td>4</td>\n      <td>14</td>\n      <td>289</td>\n      <td>42</td>\n      <td>230</td>\n      <td>17</td>\n      <td>n/a</td>\n      <td>2</td>\n    </tr>\n    <tr>\n      <th>2</th>\n      <td>Alabama</td>\n      <td>Alabaster</td>\n      <td>92</td>\n      <td>0</td>\n      <td>2</td>\n      <td>10</td>\n      <td>80</td>\n      <td>579</td>\n      <td>56</td>\n      <td>497</td>\n      <td>26</td>\n      <td>n/a</td>\n      <td>2</td>\n    </tr>\n    <tr>\n      <th>3</th>\n      <td>Alabama</td>\n      <td>Albertville</td>\n      <td>24</td>\n      <td>0</td>\n      <td>6</td>\n      <td>10</td>\n      <td>8</td>\n      <td>802</td>\n      <td>194</td>\n      <td>492</td>\n      <td>116</td>\n      <td>n/a</td>\n      <td>2</td>\n    </tr>\n    <tr>\n      <th>4</th>\n      <td>Alabama</td>\n      <td>Alexander City</td>\n      <td>314</td>\n      <td>2</td>\n      <td>5</td>\n      <td>15</td>\n      <td>292</td>\n      <td>610</td>\n      <td>92</td>\n      <td>484</td>\n      <td>34</td>\n      <td>n/a</td>\n      <td>2</td>\n    </tr>\n    <tr>\n      <th>...</th>\n      <td>...</td>\n      <td>...</td>\n      <td>...</td>\n      <td>...</td>\n      <td>...</td>\n      <td>...</td>\n      <td>...</td>\n      <td>...</td>\n      <td>...</td>\n      <td>...</td>\n      <td>...</td>\n      <td>...</td>\n      <td>...</td>\n    </tr>\n    <tr>\n      <th>9247</th>\n      <td>Wyoming</td>\n      <td>Sheridan</td>\n      <td>17</td>\n      <td>1</td>\n      <td>2</td>\n      <td>0</td>\n      <td>14</td>\n      <td>313</td>\n      <td>39</td>\n      <td>261</td>\n      <td>13</td>\n      <td>1</td>\n      <td>2</td>\n    </tr>\n    <tr>\n      <th>9248</th>\n      <td>Wyoming</td>\n      <td>Thermopolis</td>\n      <td>13</td>\n      <td>0</td>\n      <td>0</td>\n      <td>0</td>\n      <td>13</td>\n      <td>64</td>\n      <td>10</td>\n      <td>48</td>\n      <td>6</td>\n      <td>0</td>\n      <td>2</td>\n    </tr>\n    <tr>\n      <th>9249</th>\n      <td>Wyoming</td>\n      <td>Torrington</td>\n      <td>35</td>\n      <td>0</td>\n      <td>0</td>\n      <td>0</td>\n      <td>35</td>\n      <td>73</td>\n      <td>12</td>\n      <td>57</td>\n      <td>4</td>\n      <td>0</td>\n      <td>2</td>\n    </tr>\n    <tr>\n      <th>9250</th>\n      <td>Wyoming</td>\n      <td>Wheatland</td>\n      <td>3</td>\n      <td>0</td>\n      <td>0</td>\n      <td>0</td>\n      <td>3</td>\n      <td>56</td>\n      <td>19</td>\n      <td>33</td>\n      <td>4</td>\n      <td>0</td>\n      <td>2</td>\n    </tr>\n    <tr>\n      <th>9251</th>\n      <td>Wyoming</td>\n      <td>Worland</td>\n      <td>2</td>\n      <td>0</td>\n      <td>2</td>\n      <td>0</td>\n      <td>0</td>\n      <td>69</td>\n      <td>18</td>\n      <td>46</td>\n      <td>5</td>\n      <td>1</td>\n      <td>2</td>\n    </tr>\n  </tbody>\n</table>\n<p>9252 rows × 13 columns</p>\n</div>"
     },
     "metadata": {},
     "execution_count": 74
    }
   ],
   "source": [
    "df"
   ]
  },
  {
   "cell_type": "code",
   "execution_count": 80,
   "metadata": {
    "tags": []
   },
   "outputs": [
    {
     "output_type": "stream",
     "name": "stdout",
     "text": [
      "2010\n2011\n2012\n2013\n2014\n2015\n2016\n2017\n2018\n2019\n"
     ]
    }
   ],
   "source": [
    "for key, df in crime_data_dict.items():\n",
    "    print(key)"
   ]
  },
  {
   "cell_type": "code",
   "execution_count": null,
   "metadata": {},
   "outputs": [],
   "source": []
  }
 ]
}