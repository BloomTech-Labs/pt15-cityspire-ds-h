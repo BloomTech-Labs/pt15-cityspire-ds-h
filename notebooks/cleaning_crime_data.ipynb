{
 "metadata": {
  "language_info": {
   "codemirror_mode": {
    "name": "ipython",
    "version": 3
   },
   "file_extension": ".py",
   "mimetype": "text/x-python",
   "name": "python",
   "nbconvert_exporter": "python",
   "pygments_lexer": "ipython3",
   "version": "3.8.5-final"
  },
  "orig_nbformat": 2,
  "kernelspec": {
   "name": "python3",
   "display_name": "Python 3",
   "language": "python"
  }
 },
 "nbformat": 4,
 "nbformat_minor": 2,
 "cells": [
  {
   "cell_type": "code",
   "execution_count": 12,
   "metadata": {},
   "outputs": [],
   "source": [
    "# imports\n",
    "import os\n",
    "import pandas as pd"
   ]
  },
  {
   "cell_type": "code",
   "execution_count": 47,
   "metadata": {},
   "outputs": [],
   "source": [
    "# reading in the data\n",
    "crime_data_dict = {}\n",
    "rows_to_skip_dict = {'2010': 7,\n",
    "                    '2011': 7,\n",
    "                    '2012': 7,\n",
    "                    '2013': 10,\n",
    "                    '2014': 9,\n",
    "                    '2015': 10,\n",
    "                    '2016': 9,\n",
    "                    '2017': 10,\n",
    "                    '2018': 10,\n",
    "                    '2019': 8}\n",
    "for year in range(2010, 2020):\n",
    "    year = str(year)\n",
    "    FILE_PATH = os.path.join(os.getcwd(), '..', 'raw_data', f'city_crime_data_{year}.csv')\n",
    "    crime_data_dict[year] = pd.read_csv(FILE_PATH, skiprows=3, skipfooter=rows_to_skip_dict[year])\n",
    "    crime_data_dict[year].columns = ['state_name', 'city_name', 'violent_crime', 'murder_and_nonnegligent_homicide',\n",
    "                'rape', 'robbery', 'aggravated_assault', 'property_crime', 'burglary',\n",
    "                'larceny_theft', 'motor_vehicle_theft', 'arson']"
   ]
  },
  {
   "cell_type": "code",
   "execution_count": 78,
   "metadata": {},
   "outputs": [
    {
     "output_type": "execute_result",
     "data": {
      "text/plain": [
       "     state_name       city_name violent_crime  \\\n",
       "0       Alabama       Abbeville            18   \n",
       "1       Alabama      Adamsville            19   \n",
       "2       Alabama       Alabaster            92   \n",
       "3       Alabama     Albertville            24   \n",
       "4       Alabama  Alexander City           314   \n",
       "...         ...             ...           ...   \n",
       "9247    Wyoming        Sheridan            17   \n",
       "9248    Wyoming     Thermopolis            13   \n",
       "9249    Wyoming      Torrington            35   \n",
       "9250    Wyoming       Wheatland             3   \n",
       "9251    Wyoming         Worland             2   \n",
       "\n",
       "     murder_and_nonnegligent_homicide rape robbery aggravated_assault  \\\n",
       "0                                   0    2       0                 16   \n",
       "1                                   0    1       4                 14   \n",
       "2                                   0    2      10                 80   \n",
       "3                                   0    6      10                  8   \n",
       "4                                   2    5      15                292   \n",
       "...                               ...  ...     ...                ...   \n",
       "9247                                1    2       0                 14   \n",
       "9248                                0    0       0                 13   \n",
       "9249                                0    0       0                 35   \n",
       "9250                                0    0       0                  3   \n",
       "9251                                0    2       0                  0   \n",
       "\n",
       "     property_crime burglary larceny_theft motor_vehicle_theft arson  \n",
       "0                49       14            33                   2   n/a  \n",
       "1               289       42           230                  17   n/a  \n",
       "2               579       56           497                  26   n/a  \n",
       "3               802      194           492                 116   n/a  \n",
       "4               610       92           484                  34   n/a  \n",
       "...             ...      ...           ...                 ...   ...  \n",
       "9247            313       39           261                  13     1  \n",
       "9248             64       10            48                   6     0  \n",
       "9249             73       12            57                   4     0  \n",
       "9250             56       19            33                   4     0  \n",
       "9251             69       18            46                   5     1  \n",
       "\n",
       "[9252 rows x 12 columns]"
      ],
      "text/html": "<div>\n<style scoped>\n    .dataframe tbody tr th:only-of-type {\n        vertical-align: middle;\n    }\n\n    .dataframe tbody tr th {\n        vertical-align: top;\n    }\n\n    .dataframe thead th {\n        text-align: right;\n    }\n</style>\n<table border=\"1\" class=\"dataframe\">\n  <thead>\n    <tr style=\"text-align: right;\">\n      <th></th>\n      <th>state_name</th>\n      <th>city_name</th>\n      <th>violent_crime</th>\n      <th>murder_and_nonnegligent_homicide</th>\n      <th>rape</th>\n      <th>robbery</th>\n      <th>aggravated_assault</th>\n      <th>property_crime</th>\n      <th>burglary</th>\n      <th>larceny_theft</th>\n      <th>motor_vehicle_theft</th>\n      <th>arson</th>\n    </tr>\n  </thead>\n  <tbody>\n    <tr>\n      <th>0</th>\n      <td>Alabama</td>\n      <td>Abbeville</td>\n      <td>18</td>\n      <td>0</td>\n      <td>2</td>\n      <td>0</td>\n      <td>16</td>\n      <td>49</td>\n      <td>14</td>\n      <td>33</td>\n      <td>2</td>\n      <td>n/a</td>\n    </tr>\n    <tr>\n      <th>1</th>\n      <td>Alabama</td>\n      <td>Adamsville</td>\n      <td>19</td>\n      <td>0</td>\n      <td>1</td>\n      <td>4</td>\n      <td>14</td>\n      <td>289</td>\n      <td>42</td>\n      <td>230</td>\n      <td>17</td>\n      <td>n/a</td>\n    </tr>\n    <tr>\n      <th>2</th>\n      <td>Alabama</td>\n      <td>Alabaster</td>\n      <td>92</td>\n      <td>0</td>\n      <td>2</td>\n      <td>10</td>\n      <td>80</td>\n      <td>579</td>\n      <td>56</td>\n      <td>497</td>\n      <td>26</td>\n      <td>n/a</td>\n    </tr>\n    <tr>\n      <th>3</th>\n      <td>Alabama</td>\n      <td>Albertville</td>\n      <td>24</td>\n      <td>0</td>\n      <td>6</td>\n      <td>10</td>\n      <td>8</td>\n      <td>802</td>\n      <td>194</td>\n      <td>492</td>\n      <td>116</td>\n      <td>n/a</td>\n    </tr>\n    <tr>\n      <th>4</th>\n      <td>Alabama</td>\n      <td>Alexander City</td>\n      <td>314</td>\n      <td>2</td>\n      <td>5</td>\n      <td>15</td>\n      <td>292</td>\n      <td>610</td>\n      <td>92</td>\n      <td>484</td>\n      <td>34</td>\n      <td>n/a</td>\n    </tr>\n    <tr>\n      <th>...</th>\n      <td>...</td>\n      <td>...</td>\n      <td>...</td>\n      <td>...</td>\n      <td>...</td>\n      <td>...</td>\n      <td>...</td>\n      <td>...</td>\n      <td>...</td>\n      <td>...</td>\n      <td>...</td>\n      <td>...</td>\n    </tr>\n    <tr>\n      <th>9247</th>\n      <td>Wyoming</td>\n      <td>Sheridan</td>\n      <td>17</td>\n      <td>1</td>\n      <td>2</td>\n      <td>0</td>\n      <td>14</td>\n      <td>313</td>\n      <td>39</td>\n      <td>261</td>\n      <td>13</td>\n      <td>1</td>\n    </tr>\n    <tr>\n      <th>9248</th>\n      <td>Wyoming</td>\n      <td>Thermopolis</td>\n      <td>13</td>\n      <td>0</td>\n      <td>0</td>\n      <td>0</td>\n      <td>13</td>\n      <td>64</td>\n      <td>10</td>\n      <td>48</td>\n      <td>6</td>\n      <td>0</td>\n    </tr>\n    <tr>\n      <th>9249</th>\n      <td>Wyoming</td>\n      <td>Torrington</td>\n      <td>35</td>\n      <td>0</td>\n      <td>0</td>\n      <td>0</td>\n      <td>35</td>\n      <td>73</td>\n      <td>12</td>\n      <td>57</td>\n      <td>4</td>\n      <td>0</td>\n    </tr>\n    <tr>\n      <th>9250</th>\n      <td>Wyoming</td>\n      <td>Wheatland</td>\n      <td>3</td>\n      <td>0</td>\n      <td>0</td>\n      <td>0</td>\n      <td>3</td>\n      <td>56</td>\n      <td>19</td>\n      <td>33</td>\n      <td>4</td>\n      <td>0</td>\n    </tr>\n    <tr>\n      <th>9251</th>\n      <td>Wyoming</td>\n      <td>Worland</td>\n      <td>2</td>\n      <td>0</td>\n      <td>2</td>\n      <td>0</td>\n      <td>0</td>\n      <td>69</td>\n      <td>18</td>\n      <td>46</td>\n      <td>5</td>\n      <td>1</td>\n    </tr>\n  </tbody>\n</table>\n<p>9252 rows × 12 columns</p>\n</div>"
     },
     "metadata": {},
     "execution_count": 78
    }
   ],
   "source": [
    "# data cleaning\n",
    "df = crime_data_dict['2018']\n",
    "df['state_name'] = df['state_name'].fillna(method='ffill')\n",
    "df['state_name'] = df['state_name'].apply(lambda x: ''.join([letter for letter in x if not letter.isdigit()]))\n",
    "df['state_name'] = df['state_name'].apply(lambda x: x.capitalize())\n",
    "df['city_name'] = df['city_name'].apply(lambda x: ''.join([letter for letter in str(x) if not letter.isdigit()]))\n",
    "df = df.fillna('n/a')\n",
    "for column in df.columns[2:]:\n",
    "    df[f'{column}'] = df[f'{column}'].apply(lambda x: str(x))\n",
    "    df[f'{column}'] = df[f'{column}'].apply(lambda x: float(x.replace(',', '')) if x != 'n/a' else x)\n",
    "df"
   ]
  },
  {
   "cell_type": "code",
   "execution_count": 71,
   "metadata": {
    "tags": []
   },
   "outputs": [
    {
     "output_type": "execute_result",
     "data": {
      "text/plain": [
       "     state_name       city_name violent_crime  \\\n",
       "0       Alabama       Abbeville            18   \n",
       "1       Alabama      Adamsville            19   \n",
       "2       Alabama       Alabaster            92   \n",
       "3       Alabama     Albertville            24   \n",
       "4       Alabama  Alexander City           314   \n",
       "...         ...             ...           ...   \n",
       "9247    Wyoming        Sheridan            17   \n",
       "9248    Wyoming     Thermopolis            13   \n",
       "9249    Wyoming      Torrington            35   \n",
       "9250    Wyoming       Wheatland             3   \n",
       "9251    Wyoming         Worland             2   \n",
       "\n",
       "      murder_and_nonnegligent_homicide rape robbery aggravated_assault  \\\n",
       "0                                  0.0    2       0                 16   \n",
       "1                                  0.0    1       4                 14   \n",
       "2                                  0.0    2      10                 80   \n",
       "3                                  0.0    6      10                  8   \n",
       "4                                  2.0    5      15                292   \n",
       "...                                ...  ...     ...                ...   \n",
       "9247                               1.0    2       0                 14   \n",
       "9248                               0.0    0       0                 13   \n",
       "9249                               0.0    0       0                 35   \n",
       "9250                               0.0    0       0                  3   \n",
       "9251                               0.0    2       0                  0   \n",
       "\n",
       "     property_crime burglary larceny_theft motor_vehicle_theft arson  \n",
       "0                49       14            33                   2   NaN  \n",
       "1               289       42           230                  17   NaN  \n",
       "2               579       56           497                  26   NaN  \n",
       "3               802      194           492                 116   NaN  \n",
       "4               610       92           484                  34   NaN  \n",
       "...             ...      ...           ...                 ...   ...  \n",
       "9247            313       39           261                  13     1  \n",
       "9248             64       10            48                   6     0  \n",
       "9249             73       12            57                   4     0  \n",
       "9250             56       19            33                   4     0  \n",
       "9251             69       18            46                   5     1  \n",
       "\n",
       "[9252 rows x 12 columns]"
      ],
      "text/html": "<div>\n<style scoped>\n    .dataframe tbody tr th:only-of-type {\n        vertical-align: middle;\n    }\n\n    .dataframe tbody tr th {\n        vertical-align: top;\n    }\n\n    .dataframe thead th {\n        text-align: right;\n    }\n</style>\n<table border=\"1\" class=\"dataframe\">\n  <thead>\n    <tr style=\"text-align: right;\">\n      <th></th>\n      <th>state_name</th>\n      <th>city_name</th>\n      <th>violent_crime</th>\n      <th>murder_and_nonnegligent_homicide</th>\n      <th>rape</th>\n      <th>robbery</th>\n      <th>aggravated_assault</th>\n      <th>property_crime</th>\n      <th>burglary</th>\n      <th>larceny_theft</th>\n      <th>motor_vehicle_theft</th>\n      <th>arson</th>\n    </tr>\n  </thead>\n  <tbody>\n    <tr>\n      <th>0</th>\n      <td>Alabama</td>\n      <td>Abbeville</td>\n      <td>18</td>\n      <td>0.0</td>\n      <td>2</td>\n      <td>0</td>\n      <td>16</td>\n      <td>49</td>\n      <td>14</td>\n      <td>33</td>\n      <td>2</td>\n      <td>NaN</td>\n    </tr>\n    <tr>\n      <th>1</th>\n      <td>Alabama</td>\n      <td>Adamsville</td>\n      <td>19</td>\n      <td>0.0</td>\n      <td>1</td>\n      <td>4</td>\n      <td>14</td>\n      <td>289</td>\n      <td>42</td>\n      <td>230</td>\n      <td>17</td>\n      <td>NaN</td>\n    </tr>\n    <tr>\n      <th>2</th>\n      <td>Alabama</td>\n      <td>Alabaster</td>\n      <td>92</td>\n      <td>0.0</td>\n      <td>2</td>\n      <td>10</td>\n      <td>80</td>\n      <td>579</td>\n      <td>56</td>\n      <td>497</td>\n      <td>26</td>\n      <td>NaN</td>\n    </tr>\n    <tr>\n      <th>3</th>\n      <td>Alabama</td>\n      <td>Albertville</td>\n      <td>24</td>\n      <td>0.0</td>\n      <td>6</td>\n      <td>10</td>\n      <td>8</td>\n      <td>802</td>\n      <td>194</td>\n      <td>492</td>\n      <td>116</td>\n      <td>NaN</td>\n    </tr>\n    <tr>\n      <th>4</th>\n      <td>Alabama</td>\n      <td>Alexander City</td>\n      <td>314</td>\n      <td>2.0</td>\n      <td>5</td>\n      <td>15</td>\n      <td>292</td>\n      <td>610</td>\n      <td>92</td>\n      <td>484</td>\n      <td>34</td>\n      <td>NaN</td>\n    </tr>\n    <tr>\n      <th>...</th>\n      <td>...</td>\n      <td>...</td>\n      <td>...</td>\n      <td>...</td>\n      <td>...</td>\n      <td>...</td>\n      <td>...</td>\n      <td>...</td>\n      <td>...</td>\n      <td>...</td>\n      <td>...</td>\n      <td>...</td>\n    </tr>\n    <tr>\n      <th>9247</th>\n      <td>Wyoming</td>\n      <td>Sheridan</td>\n      <td>17</td>\n      <td>1.0</td>\n      <td>2</td>\n      <td>0</td>\n      <td>14</td>\n      <td>313</td>\n      <td>39</td>\n      <td>261</td>\n      <td>13</td>\n      <td>1</td>\n    </tr>\n    <tr>\n      <th>9248</th>\n      <td>Wyoming</td>\n      <td>Thermopolis</td>\n      <td>13</td>\n      <td>0.0</td>\n      <td>0</td>\n      <td>0</td>\n      <td>13</td>\n      <td>64</td>\n      <td>10</td>\n      <td>48</td>\n      <td>6</td>\n      <td>0</td>\n    </tr>\n    <tr>\n      <th>9249</th>\n      <td>Wyoming</td>\n      <td>Torrington</td>\n      <td>35</td>\n      <td>0.0</td>\n      <td>0</td>\n      <td>0</td>\n      <td>35</td>\n      <td>73</td>\n      <td>12</td>\n      <td>57</td>\n      <td>4</td>\n      <td>0</td>\n    </tr>\n    <tr>\n      <th>9250</th>\n      <td>Wyoming</td>\n      <td>Wheatland</td>\n      <td>3</td>\n      <td>0.0</td>\n      <td>0</td>\n      <td>0</td>\n      <td>3</td>\n      <td>56</td>\n      <td>19</td>\n      <td>33</td>\n      <td>4</td>\n      <td>0</td>\n    </tr>\n    <tr>\n      <th>9251</th>\n      <td>Wyoming</td>\n      <td>Worland</td>\n      <td>2</td>\n      <td>0.0</td>\n      <td>2</td>\n      <td>0</td>\n      <td>0</td>\n      <td>69</td>\n      <td>18</td>\n      <td>46</td>\n      <td>5</td>\n      <td>1</td>\n    </tr>\n  </tbody>\n</table>\n<p>9252 rows × 12 columns</p>\n</div>"
     },
     "metadata": {},
     "execution_count": 71
    }
   ],
   "source": [
    "crime_data_dict['2018']"
   ]
  },
  {
   "cell_type": "code",
   "execution_count": null,
   "metadata": {},
   "outputs": [],
   "source": []
  }
 ]
}