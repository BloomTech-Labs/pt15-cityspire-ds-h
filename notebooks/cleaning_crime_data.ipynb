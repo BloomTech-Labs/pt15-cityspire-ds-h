{
 "metadata": {
  "language_info": {
   "codemirror_mode": {
    "name": "ipython",
    "version": 3
   },
   "file_extension": ".py",
   "mimetype": "text/x-python",
   "name": "python",
   "nbconvert_exporter": "python",
   "pygments_lexer": "ipython3",
   "version": "3.8.5-final"
  },
  "orig_nbformat": 2,
  "kernelspec": {
   "name": "python3",
   "display_name": "Python 3",
   "language": "python"
  }
 },
 "nbformat": 4,
 "nbformat_minor": 2,
 "cells": [
  {
   "cell_type": "code",
   "execution_count": 81,
   "metadata": {},
   "outputs": [],
   "source": [
    "# imports\n",
    "import sys\n",
    "\n",
    "PATH = os.path.join(os.getcwd(), '..', '..', '.local', 'share', 'virtualenvs', 'cityspire-ds-h-NIlzhGdy', 'lib', 'python3.8', 'site-packages')\n",
    "sys.path.append(PATH)\n",
    "\n",
    "import os\n",
    "import pandas as pd\n",
    "import sqlalchemy"
   ]
  },
  {
   "cell_type": "code",
   "execution_count": 152,
   "metadata": {},
   "outputs": [],
   "source": [
    "# reading in the data\n",
    "crime_data_dict = {}\n",
    "rows_to_skip_dict = {'2010': 7,\n",
    "                    '2011': 7,\n",
    "                    '2012': 7,\n",
    "                    '2013': 10,\n",
    "                    '2014': 9,\n",
    "                    '2015': 10,\n",
    "                    '2016': 9,\n",
    "                    '2017': 10,\n",
    "                    '2018': 10,\n",
    "                    '2019': 8}\n",
    "for year in range(2010, 2020):\n",
    "    year = str(year)\n",
    "    FILE_PATH = os.path.join(os.getcwd(), '..', 'raw_data', f'city_crime_data_{year}.csv')\n",
    "    crime_data_dict[year] = pd.read_csv(FILE_PATH, skiprows=3, skipfooter=rows_to_skip_dict[year])\n",
    "    crime_data_dict[year].columns = ['state_name', 'city_name', 'violent_crime', 'murder_and_nonnegligent_homicide',\n",
    "                'rape', 'robbery', 'aggravated_assault', 'property_crime', 'burglary',\n",
    "                'larceny_theft', 'motor_vehicle_theft', 'arson']"
   ]
  },
  {
   "cell_type": "code",
   "execution_count": 153,
   "metadata": {
    "tags": []
   },
   "outputs": [],
   "source": [
    "# reading in data to get city_id in order to merge it in\n",
    "DATABASE_URL = os.getenv('PRODUCTION_DATABASE_URL')\n",
    "query = '''\n",
    "        SELECT Cities.city_id, RTRIM(Cities.city_name), RTRIM(States.state_name)\n",
    "        FROM CITIES\n",
    "        LEFT JOIN STATES ON CITIES.state_id=STATES.state_id\n",
    "        '''\n",
    "cities = pd.read_sql(query, DATABASE_URL)\n",
    "cities.columns = ['city_id', 'city_name', 'state_name']\n",
    "\n",
    "\n",
    "for key, df in crime_data_dict.items():\n",
    "    # data cleaning\n",
    "    df['state_name'] = df['state_name'].fillna(method='ffill')\n",
    "    df['state_name'] = df['state_name'].apply(lambda x: ''.join([letter for letter in x if not letter.isdigit()]))\n",
    "    df['state_name'] = df['state_name'].apply(lambda x: x.capitalize())\n",
    "    df['city_name'] = df['city_name'].apply(lambda x: ''.join([letter for letter in str(x) if not letter.isdigit()]))\n",
    "    crime_data_dict[f'{key}'] = crime_data_dict[f'{key}'].fillna('n/a')\n",
    "    for column in df.columns[2:]:\n",
    "        crime_data_dict[f'{key}'][f'{column}'] = crime_data_dict[f'{key}'][f'{column}'].apply(lambda x: str(x))\n",
    "        crime_data_dict[f'{key}'][f'{column}'] = crime_data_dict[f'{key}'][f'{column}'].apply(\n",
    "            lambda x: float(x.replace(',', '')) if x != 'n/a' else x)\n",
    "    \n",
    "    # merging in city_id\n",
    "    crime_data_dict[f'{key}'] = crime_data_dict[f'{key}'].merge(cities, on=['city_name', 'state_name'], how='left')\n",
    "    crime_data_dict[f'{key}'] = crime_data_dict[f'{key}'].drop(['city_name', 'state_name'], axis=1)\n",
    "    crime_data_dict[f'{key}'] = crime_data_dict[f'{key}'].dropna()\n",
    "    crime_data_dict[f'{key}'] = crime_data_dict[f'{key}'].reset_index(drop=True)\n",
    "\n",
    "    # engineering feature that gives total\n",
    "    crime_data_dict[f'{key}']['total'] = float(0)\n",
    "    for column in crime_data_dict[f'{key}'].columns[:-2]:\n",
    "        for i in range(len(crime_data_dict[f'{key}']['total'])):\n",
    "            if crime_data_dict[f'{key}'][f'{column}'][i] != 'n/a':\n",
    "                crime_data_dict[f'{key}']['total'][i] += crime_data_dict[f'{key}'][f'{column}'][i]"
   ]
  },
  {
   "cell_type": "code",
   "execution_count": 155,
   "metadata": {
    "tags": []
   },
   "outputs": [
    {
     "output_type": "execute_result",
     "data": {
      "text/plain": [
       "     violent_crime murder_and_nonnegligent_homicide rape robbery  \\\n",
       "0               18                                0    2       0   \n",
       "1               19                                0    1       4   \n",
       "2               92                                0    2      10   \n",
       "3               24                                0    6      10   \n",
       "4              314                                2    5      15   \n",
       "...            ...                              ...  ...     ...   \n",
       "6048            17                                1    2       0   \n",
       "6049            13                                0    0       0   \n",
       "6050            35                                0    0       0   \n",
       "6051             3                                0    0       0   \n",
       "6052             2                                0    2       0   \n",
       "\n",
       "     aggravated_assault property_crime burglary larceny_theft  \\\n",
       "0                    16             49       14            33   \n",
       "1                    14            289       42           230   \n",
       "2                    80            579       56           497   \n",
       "3                     8            802      194           492   \n",
       "4                   292            610       92           484   \n",
       "...                 ...            ...      ...           ...   \n",
       "6048                 14            313       39           261   \n",
       "6049                 13             64       10            48   \n",
       "6050                 35             73       12            57   \n",
       "6051                  3             56       19            33   \n",
       "6052                  0             69       18            46   \n",
       "\n",
       "     motor_vehicle_theft arson  city_id   total  \n",
       "0                      2   n/a  0100124   134.0  \n",
       "1                     17   n/a  0100460   616.0  \n",
       "2                     26   n/a  0100820  1342.0  \n",
       "3                    116   n/a  0100988  1652.0  \n",
       "4                     34   n/a  0101132  1848.0  \n",
       "...                  ...   ...      ...     ...  \n",
       "6048                  13     1  5669845   661.0  \n",
       "6049                   6     0  5676515   154.0  \n",
       "6050                   4     0  5677530   216.0  \n",
       "6051                   4     0  5683040   118.0  \n",
       "6052                   5     1  5684925   143.0  \n",
       "\n",
       "[6053 rows x 12 columns]"
      ],
      "text/html": "<div>\n<style scoped>\n    .dataframe tbody tr th:only-of-type {\n        vertical-align: middle;\n    }\n\n    .dataframe tbody tr th {\n        vertical-align: top;\n    }\n\n    .dataframe thead th {\n        text-align: right;\n    }\n</style>\n<table border=\"1\" class=\"dataframe\">\n  <thead>\n    <tr style=\"text-align: right;\">\n      <th></th>\n      <th>violent_crime</th>\n      <th>murder_and_nonnegligent_homicide</th>\n      <th>rape</th>\n      <th>robbery</th>\n      <th>aggravated_assault</th>\n      <th>property_crime</th>\n      <th>burglary</th>\n      <th>larceny_theft</th>\n      <th>motor_vehicle_theft</th>\n      <th>arson</th>\n      <th>city_id</th>\n      <th>total</th>\n    </tr>\n  </thead>\n  <tbody>\n    <tr>\n      <th>0</th>\n      <td>18</td>\n      <td>0</td>\n      <td>2</td>\n      <td>0</td>\n      <td>16</td>\n      <td>49</td>\n      <td>14</td>\n      <td>33</td>\n      <td>2</td>\n      <td>n/a</td>\n      <td>0100124</td>\n      <td>134.0</td>\n    </tr>\n    <tr>\n      <th>1</th>\n      <td>19</td>\n      <td>0</td>\n      <td>1</td>\n      <td>4</td>\n      <td>14</td>\n      <td>289</td>\n      <td>42</td>\n      <td>230</td>\n      <td>17</td>\n      <td>n/a</td>\n      <td>0100460</td>\n      <td>616.0</td>\n    </tr>\n    <tr>\n      <th>2</th>\n      <td>92</td>\n      <td>0</td>\n      <td>2</td>\n      <td>10</td>\n      <td>80</td>\n      <td>579</td>\n      <td>56</td>\n      <td>497</td>\n      <td>26</td>\n      <td>n/a</td>\n      <td>0100820</td>\n      <td>1342.0</td>\n    </tr>\n    <tr>\n      <th>3</th>\n      <td>24</td>\n      <td>0</td>\n      <td>6</td>\n      <td>10</td>\n      <td>8</td>\n      <td>802</td>\n      <td>194</td>\n      <td>492</td>\n      <td>116</td>\n      <td>n/a</td>\n      <td>0100988</td>\n      <td>1652.0</td>\n    </tr>\n    <tr>\n      <th>4</th>\n      <td>314</td>\n      <td>2</td>\n      <td>5</td>\n      <td>15</td>\n      <td>292</td>\n      <td>610</td>\n      <td>92</td>\n      <td>484</td>\n      <td>34</td>\n      <td>n/a</td>\n      <td>0101132</td>\n      <td>1848.0</td>\n    </tr>\n    <tr>\n      <th>...</th>\n      <td>...</td>\n      <td>...</td>\n      <td>...</td>\n      <td>...</td>\n      <td>...</td>\n      <td>...</td>\n      <td>...</td>\n      <td>...</td>\n      <td>...</td>\n      <td>...</td>\n      <td>...</td>\n      <td>...</td>\n    </tr>\n    <tr>\n      <th>6048</th>\n      <td>17</td>\n      <td>1</td>\n      <td>2</td>\n      <td>0</td>\n      <td>14</td>\n      <td>313</td>\n      <td>39</td>\n      <td>261</td>\n      <td>13</td>\n      <td>1</td>\n      <td>5669845</td>\n      <td>661.0</td>\n    </tr>\n    <tr>\n      <th>6049</th>\n      <td>13</td>\n      <td>0</td>\n      <td>0</td>\n      <td>0</td>\n      <td>13</td>\n      <td>64</td>\n      <td>10</td>\n      <td>48</td>\n      <td>6</td>\n      <td>0</td>\n      <td>5676515</td>\n      <td>154.0</td>\n    </tr>\n    <tr>\n      <th>6050</th>\n      <td>35</td>\n      <td>0</td>\n      <td>0</td>\n      <td>0</td>\n      <td>35</td>\n      <td>73</td>\n      <td>12</td>\n      <td>57</td>\n      <td>4</td>\n      <td>0</td>\n      <td>5677530</td>\n      <td>216.0</td>\n    </tr>\n    <tr>\n      <th>6051</th>\n      <td>3</td>\n      <td>0</td>\n      <td>0</td>\n      <td>0</td>\n      <td>3</td>\n      <td>56</td>\n      <td>19</td>\n      <td>33</td>\n      <td>4</td>\n      <td>0</td>\n      <td>5683040</td>\n      <td>118.0</td>\n    </tr>\n    <tr>\n      <th>6052</th>\n      <td>2</td>\n      <td>0</td>\n      <td>2</td>\n      <td>0</td>\n      <td>0</td>\n      <td>69</td>\n      <td>18</td>\n      <td>46</td>\n      <td>5</td>\n      <td>1</td>\n      <td>5684925</td>\n      <td>143.0</td>\n    </tr>\n  </tbody>\n</table>\n<p>6053 rows × 12 columns</p>\n</div>"
     },
     "metadata": {},
     "execution_count": 155
    }
   ],
   "source": [
    "# engineering feature that gives total\n",
    "df = crime_data_dict['2018']\n",
    "df"
   ]
  },
  {
   "cell_type": "code",
   "execution_count": 145,
   "metadata": {},
   "outputs": [
    {
     "output_type": "execute_result",
     "data": {
      "text/plain": [
       "     violent_crime murder_and_nonnegligent_homicide rape robbery  \\\n",
       "0              114                                4   15      27   \n",
       "2              130                                1   47       3   \n",
       "4                0                                0    0       0   \n",
       "5                7                                0    0       0   \n",
       "6               49                                1    3       1   \n",
       "...            ...                              ...  ...     ...   \n",
       "8103             9                                0    4       0   \n",
       "8104            13                                0    0       0   \n",
       "8105            13                                0    4       1   \n",
       "8106             7                                0    1       0   \n",
       "8107             8                                0    5       0   \n",
       "\n",
       "     aggravated_assault property_crime burglary larceny_theft  \\\n",
       "0                    68           1922      128          1694   \n",
       "2                    79            132       20            84   \n",
       "4                     0              7        1             6   \n",
       "5                     7             20        5            12   \n",
       "6                    44             58       11            37   \n",
       "...                 ...            ...      ...           ...   \n",
       "8103                  5            369       75           278   \n",
       "8104                 13             34        7            22   \n",
       "8105                  8             48        8            40   \n",
       "8106                  6             72       24            45   \n",
       "8107                  3             36        6            30   \n",
       "\n",
       "     motor_vehicle_theft arson  city_id  total  \n",
       "0                    100     2  0135896    0.0  \n",
       "2                     28    12  0206520    0.0  \n",
       "4                      0     0  0217410    0.0  \n",
       "5                      3     0  0217740    0.0  \n",
       "6                     10     0  0218950    0.0  \n",
       "...                  ...   ...      ...    ...  \n",
       "8103                  16     3  5669845    0.0  \n",
       "8104                   5     0  5676515    0.0  \n",
       "8105                   0     0  5677530    0.0  \n",
       "8106                   3     0  5683040    0.0  \n",
       "8107                   0     0  5684925    0.0  \n",
       "\n",
       "[5608 rows x 12 columns]"
      ],
      "text/html": "<div>\n<style scoped>\n    .dataframe tbody tr th:only-of-type {\n        vertical-align: middle;\n    }\n\n    .dataframe tbody tr th {\n        vertical-align: top;\n    }\n\n    .dataframe thead th {\n        text-align: right;\n    }\n</style>\n<table border=\"1\" class=\"dataframe\">\n  <thead>\n    <tr style=\"text-align: right;\">\n      <th></th>\n      <th>violent_crime</th>\n      <th>murder_and_nonnegligent_homicide</th>\n      <th>rape</th>\n      <th>robbery</th>\n      <th>aggravated_assault</th>\n      <th>property_crime</th>\n      <th>burglary</th>\n      <th>larceny_theft</th>\n      <th>motor_vehicle_theft</th>\n      <th>arson</th>\n      <th>city_id</th>\n      <th>total</th>\n    </tr>\n  </thead>\n  <tbody>\n    <tr>\n      <th>0</th>\n      <td>114</td>\n      <td>4</td>\n      <td>15</td>\n      <td>27</td>\n      <td>68</td>\n      <td>1922</td>\n      <td>128</td>\n      <td>1694</td>\n      <td>100</td>\n      <td>2</td>\n      <td>0135896</td>\n      <td>0.0</td>\n    </tr>\n    <tr>\n      <th>2</th>\n      <td>130</td>\n      <td>1</td>\n      <td>47</td>\n      <td>3</td>\n      <td>79</td>\n      <td>132</td>\n      <td>20</td>\n      <td>84</td>\n      <td>28</td>\n      <td>12</td>\n      <td>0206520</td>\n      <td>0.0</td>\n    </tr>\n    <tr>\n      <th>4</th>\n      <td>0</td>\n      <td>0</td>\n      <td>0</td>\n      <td>0</td>\n      <td>0</td>\n      <td>7</td>\n      <td>1</td>\n      <td>6</td>\n      <td>0</td>\n      <td>0</td>\n      <td>0217410</td>\n      <td>0.0</td>\n    </tr>\n    <tr>\n      <th>5</th>\n      <td>7</td>\n      <td>0</td>\n      <td>0</td>\n      <td>0</td>\n      <td>7</td>\n      <td>20</td>\n      <td>5</td>\n      <td>12</td>\n      <td>3</td>\n      <td>0</td>\n      <td>0217740</td>\n      <td>0.0</td>\n    </tr>\n    <tr>\n      <th>6</th>\n      <td>49</td>\n      <td>1</td>\n      <td>3</td>\n      <td>1</td>\n      <td>44</td>\n      <td>58</td>\n      <td>11</td>\n      <td>37</td>\n      <td>10</td>\n      <td>0</td>\n      <td>0218950</td>\n      <td>0.0</td>\n    </tr>\n    <tr>\n      <th>...</th>\n      <td>...</td>\n      <td>...</td>\n      <td>...</td>\n      <td>...</td>\n      <td>...</td>\n      <td>...</td>\n      <td>...</td>\n      <td>...</td>\n      <td>...</td>\n      <td>...</td>\n      <td>...</td>\n      <td>...</td>\n    </tr>\n    <tr>\n      <th>8103</th>\n      <td>9</td>\n      <td>0</td>\n      <td>4</td>\n      <td>0</td>\n      <td>5</td>\n      <td>369</td>\n      <td>75</td>\n      <td>278</td>\n      <td>16</td>\n      <td>3</td>\n      <td>5669845</td>\n      <td>0.0</td>\n    </tr>\n    <tr>\n      <th>8104</th>\n      <td>13</td>\n      <td>0</td>\n      <td>0</td>\n      <td>0</td>\n      <td>13</td>\n      <td>34</td>\n      <td>7</td>\n      <td>22</td>\n      <td>5</td>\n      <td>0</td>\n      <td>5676515</td>\n      <td>0.0</td>\n    </tr>\n    <tr>\n      <th>8105</th>\n      <td>13</td>\n      <td>0</td>\n      <td>4</td>\n      <td>1</td>\n      <td>8</td>\n      <td>48</td>\n      <td>8</td>\n      <td>40</td>\n      <td>0</td>\n      <td>0</td>\n      <td>5677530</td>\n      <td>0.0</td>\n    </tr>\n    <tr>\n      <th>8106</th>\n      <td>7</td>\n      <td>0</td>\n      <td>1</td>\n      <td>0</td>\n      <td>6</td>\n      <td>72</td>\n      <td>24</td>\n      <td>45</td>\n      <td>3</td>\n      <td>0</td>\n      <td>5683040</td>\n      <td>0.0</td>\n    </tr>\n    <tr>\n      <th>8107</th>\n      <td>8</td>\n      <td>0</td>\n      <td>5</td>\n      <td>0</td>\n      <td>3</td>\n      <td>36</td>\n      <td>6</td>\n      <td>30</td>\n      <td>0</td>\n      <td>0</td>\n      <td>5684925</td>\n      <td>0.0</td>\n    </tr>\n  </tbody>\n</table>\n<p>5608 rows × 12 columns</p>\n</div>"
     },
     "metadata": {},
     "execution_count": 145
    }
   ],
   "source": [
    "df"
   ]
  },
  {
   "cell_type": "code",
   "execution_count": null,
   "metadata": {},
   "outputs": [],
   "source": []
  }
 ]
}