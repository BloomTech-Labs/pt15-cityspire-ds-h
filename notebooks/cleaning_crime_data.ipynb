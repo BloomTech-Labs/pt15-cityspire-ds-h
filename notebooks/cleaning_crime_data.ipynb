{
 "metadata": {
  "language_info": {
   "codemirror_mode": {
    "name": "ipython",
    "version": 3
   },
   "file_extension": ".py",
   "mimetype": "text/x-python",
   "name": "python",
   "nbconvert_exporter": "python",
   "pygments_lexer": "ipython3",
   "version": "3.8.5-final"
  },
  "orig_nbformat": 2,
  "kernelspec": {
   "name": "python3",
   "display_name": "Python 3",
   "language": "python"
  }
 },
 "nbformat": 4,
 "nbformat_minor": 2,
 "cells": [
  {
   "cell_type": "code",
   "execution_count": 1,
   "metadata": {},
   "outputs": [],
   "source": [
    "# imports\n",
    "import sys\n",
    "\n",
    "PATH = os.path.join(os.getcwd(), '..', '..', '.local', 'share', 'virtualenvs', 'cityspire-ds-h-NIlzhGdy', 'lib', 'python3.8', 'site-packages')\n",
    "sys.path.append(PATH)\n",
    "\n",
    "import os\n",
    "import pandas as pd\n",
    "import sqlalchemy"
   ]
  },
  {
   "cell_type": "code",
   "execution_count": 22,
   "metadata": {},
   "outputs": [],
   "source": [
    "# reading in the data\n",
    "crime_data_dict = {}\n",
    "rows_to_skip_dict = {'2010': 7,\n",
    "                    '2011': 7,\n",
    "                    '2012': 7,\n",
    "                    '2013': 10,\n",
    "                    '2014': 9,\n",
    "                    '2015': 10,\n",
    "                    '2016': 9,\n",
    "                    '2017': 10,\n",
    "                    '2018': 10,\n",
    "                    '2019': 8}\n",
    "for year in range(2010, 2020):\n",
    "    year = str(year)\n",
    "    FILE_PATH = os.path.join(os.getcwd(), '..', 'raw_data', f'city_crime_data_{year}.csv')\n",
    "    crime_data_dict[year] = pd.read_csv(FILE_PATH, skiprows=3, skipfooter=rows_to_skip_dict[year])\n",
    "    crime_data_dict[year].columns = ['state_name', 'city_name', 'violent_crime', 'murder_and_nonnegligent_homicide',\n",
    "                'rape', 'robbery', 'aggravated_assault', 'property_crime', 'burglary',\n",
    "                'larceny_theft', 'motor_vehicle_theft', 'arson']"
   ]
  },
  {
   "cell_type": "code",
   "execution_count": 23,
   "metadata": {
    "tags": []
   },
   "outputs": [],
   "source": [
    "# reading in data to get city_id in order to merge it in\n",
    "DATABASE_URL = os.getenv('PRODUCTION_DATABASE_URL')\n",
    "query = '''\n",
    "        SELECT Cities.city_id, RTRIM(Cities.city_name), RTRIM(States.state_name)\n",
    "        FROM CITIES\n",
    "        LEFT JOIN STATES ON CITIES.state_id=STATES.state_id\n",
    "        '''\n",
    "cities = pd.read_sql(query, DATABASE_URL)\n",
    "cities.columns = ['city_id', 'city_name', 'state_name']\n",
    "\n",
    "crime_data_raw = pd.DataFrame({'city_id': [], 'year':[], 'type': [], 'value': []})\n",
    "\n",
    "for key, df in crime_data_dict.items():\n",
    "    # data cleaning\n",
    "    df['state_name'] = df['state_name'].fillna(method='ffill')\n",
    "    df['state_name'] = df['state_name'].apply(lambda x: ''.join([letter for letter in x if not letter.isdigit()]))\n",
    "    df['state_name'] = df['state_name'].apply(lambda x: x.capitalize())\n",
    "    df['city_name'] = df['city_name'].apply(lambda x: ''.join([letter for letter in str(x) if not letter.isdigit()]))\n",
    "    crime_data_dict[f'{key}'] = crime_data_dict[f'{key}'].fillna('n/a')\n",
    "    for column in df.columns[2:]:\n",
    "        crime_data_dict[f'{key}'][f'{column}'] = crime_data_dict[f'{key}'][f'{column}'].apply(lambda x: str(x))\n",
    "        crime_data_dict[f'{key}'][f'{column}'] = crime_data_dict[f'{key}'][f'{column}'].apply(\n",
    "            lambda x: float(x.replace(',', '')) if x != 'n/a' else x)\n",
    "    \n",
    "    # merging in city_id\n",
    "    crime_data_dict[f'{key}'] = crime_data_dict[f'{key}'].merge(cities, on=['city_name', 'state_name'], how='left')\n",
    "    crime_data_dict[f'{key}'] = crime_data_dict[f'{key}'].drop(['city_name', 'state_name'], axis=1)\n",
    "    crime_data_dict[f'{key}'] = crime_data_dict[f'{key}'].dropna()\n",
    "    crime_data_dict[f'{key}'] = crime_data_dict[f'{key}'].reset_index(drop=True)\n",
    "\n",
    "    # engineering feature that gives total\n",
    "    crime_data_dict[f'{key}']['total'] = float(0)\n",
    "    for column in crime_data_dict[f'{key}'].columns[:-2]:\n",
    "        for i in range(len(crime_data_dict[f'{key}']['total'])):\n",
    "            if crime_data_dict[f'{key}'][f'{column}'][i] != 'n/a':\n",
    "                crime_data_dict[f'{key}']['total'][i] += crime_data_dict[f'{key}'][f'{column}'][i]\n",
    "\n",
    "    # adding feature for the year\n",
    "    crime_data_dict[f'{key}']['year'] = str(key)\n",
    "\n",
    "    # changing format of dataframe\n",
    "    crime_data_dict[f'{key}'] = crime_data_dict[f'{key}'].melt(id_vars=['city_id', 'year'])\n",
    "    crime_data_dict[f'{key}'].columns = ['city_id', 'year', 'type', 'value']\n",
    "\n",
    "    # combining all of the dataframes into one\n",
    "    crime_data_raw = pd.concat([crime_data_raw, crime_data_dict[f'{key}']])\n",
    "    "
   ]
  },
  {
   "cell_type": "code",
   "execution_count": 24,
   "metadata": {},
   "outputs": [
    {
     "output_type": "execute_result",
     "data": {
      "text/plain": [
       "       city_id  year           type value\n",
       "0      0100124  2010  violent_crime    21\n",
       "1      0100460  2010  violent_crime    10\n",
       "2      0100484  2010  violent_crime     0\n",
       "3      0100820  2010  violent_crime    33\n",
       "4      0100988  2010  violent_crime    81\n",
       "...        ...   ...            ...   ...\n",
       "61683  5669845  2019          total   759\n",
       "61684  5676515  2019          total    94\n",
       "61685  5677530  2019          total   122\n",
       "61686  5683040  2019          total   158\n",
       "61687  5684925  2019          total    88\n",
       "\n",
       "[608564 rows x 4 columns]"
      ],
      "text/html": "<div>\n<style scoped>\n    .dataframe tbody tr th:only-of-type {\n        vertical-align: middle;\n    }\n\n    .dataframe tbody tr th {\n        vertical-align: top;\n    }\n\n    .dataframe thead th {\n        text-align: right;\n    }\n</style>\n<table border=\"1\" class=\"dataframe\">\n  <thead>\n    <tr style=\"text-align: right;\">\n      <th></th>\n      <th>city_id</th>\n      <th>year</th>\n      <th>type</th>\n      <th>value</th>\n    </tr>\n  </thead>\n  <tbody>\n    <tr>\n      <th>0</th>\n      <td>0100124</td>\n      <td>2010</td>\n      <td>violent_crime</td>\n      <td>21</td>\n    </tr>\n    <tr>\n      <th>1</th>\n      <td>0100460</td>\n      <td>2010</td>\n      <td>violent_crime</td>\n      <td>10</td>\n    </tr>\n    <tr>\n      <th>2</th>\n      <td>0100484</td>\n      <td>2010</td>\n      <td>violent_crime</td>\n      <td>0</td>\n    </tr>\n    <tr>\n      <th>3</th>\n      <td>0100820</td>\n      <td>2010</td>\n      <td>violent_crime</td>\n      <td>33</td>\n    </tr>\n    <tr>\n      <th>4</th>\n      <td>0100988</td>\n      <td>2010</td>\n      <td>violent_crime</td>\n      <td>81</td>\n    </tr>\n    <tr>\n      <th>...</th>\n      <td>...</td>\n      <td>...</td>\n      <td>...</td>\n      <td>...</td>\n    </tr>\n    <tr>\n      <th>61683</th>\n      <td>5669845</td>\n      <td>2019</td>\n      <td>total</td>\n      <td>759</td>\n    </tr>\n    <tr>\n      <th>61684</th>\n      <td>5676515</td>\n      <td>2019</td>\n      <td>total</td>\n      <td>94</td>\n    </tr>\n    <tr>\n      <th>61685</th>\n      <td>5677530</td>\n      <td>2019</td>\n      <td>total</td>\n      <td>122</td>\n    </tr>\n    <tr>\n      <th>61686</th>\n      <td>5683040</td>\n      <td>2019</td>\n      <td>total</td>\n      <td>158</td>\n    </tr>\n    <tr>\n      <th>61687</th>\n      <td>5684925</td>\n      <td>2019</td>\n      <td>total</td>\n      <td>88</td>\n    </tr>\n  </tbody>\n</table>\n<p>608564 rows × 4 columns</p>\n</div>"
     },
     "metadata": {},
     "execution_count": 24
    }
   ],
   "source": [
    "crime_data_raw"
   ]
  },
  {
   "cell_type": "code",
   "execution_count": null,
   "metadata": {},
   "outputs": [],
   "source": []
  }
 ]
}