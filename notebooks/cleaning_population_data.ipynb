{
 "metadata": {
  "language_info": {
   "codemirror_mode": {
    "name": "ipython",
    "version": 3
   },
   "file_extension": ".py",
   "mimetype": "text/x-python",
   "name": "python",
   "nbconvert_exporter": "python",
   "pygments_lexer": "ipython3",
   "version": "3.8.5-final"
  },
  "orig_nbformat": 2,
  "kernelspec": {
   "name": "python3",
   "display_name": "Python 3",
   "language": "python"
  }
 },
 "nbformat": 4,
 "nbformat_minor": 2,
 "cells": [
  {
   "cell_type": "code",
   "execution_count": 29,
   "metadata": {},
   "outputs": [],
   "source": [
    "# imports\n",
    "import pandas as pd\n",
    "import os"
   ]
  },
  {
   "cell_type": "code",
   "execution_count": 30,
   "metadata": {},
   "outputs": [],
   "source": [
    "# loading in data\n",
    "FILE_PATH = os.path.join(os.path.abspath(''), '..', 'raw_data', 'population_data_2010-2019.csv')\n",
    "teens_raw = pd.read_csv(FILE_PATH, engine='python')\n",
    "\n",
    "FILE_PATH = os.path.join(os.path.abspath(''), '..', 'raw_data', 'population_data_2000-2010.csv')\n",
    "aughts_raw = pd.read_csv(FILE_PATH, engine='python')\n",
    "\n",
    "FILE_PATH = os.path.join(os.getcwd(), '..', 'raw_data', 'basic_city_data.txt')\n",
    "city_geographic_raw = pd.read_csv(FILE_PATH, sep='\\t')\n"
   ]
  },
  {
   "cell_type": "code",
   "execution_count": 31,
   "metadata": {},
   "outputs": [
    {
     "output_type": "execute_result",
     "data": {
      "text/plain": [
       "              name    state     2010     2011     2012     2013     2014  \\\n",
       "0          Alabama  Alabama  4785437  4799069  4815588  4830081  4841799   \n",
       "1   Abbeville city  Alabama     2699     2694     2643     2628     2608   \n",
       "2  Adamsville city  Alabama     4500     4493     4471     4449     4420   \n",
       "3     Addison town  Alabama      751      750      743      742      739   \n",
       "4       Akron town  Alabama      355      347      347      343      338   \n",
       "\n",
       "      2015     2016     2017  ...       2000       2001       2002       2003  \\\n",
       "0  4852347  4863525  4874486  ...  4452173.0  4467634.0  4480089.0  4503491.0   \n",
       "1     2600     2584     2575  ...     2985.0     2941.0     2909.0     2882.0   \n",
       "2     4390     4356     4327  ...     5021.0     4960.0     4894.0     4841.0   \n",
       "3      734      731      726  ...      701.0      701.0      708.0      714.0   \n",
       "4      339      333      332  ...      485.0      473.0      454.0      442.0   \n",
       "\n",
       "        2004       2005       2006       2007       2008       2009  \n",
       "0  4530729.0  4569805.0  4628981.0  4672840.0  4718206.0  4757938.0  \n",
       "1     2857.0     2820.0     2807.0     2784.0     2742.0     2714.0  \n",
       "2     4784.0     4728.0     4687.0     4633.0     4594.0     4558.0  \n",
       "3      722.0      729.0      741.0      750.0      752.0      759.0  \n",
       "4      426.0      416.0      404.0      395.0      384.0      369.0  \n",
       "\n",
       "[5 rows x 22 columns]"
      ],
      "text/html": "<div>\n<style scoped>\n    .dataframe tbody tr th:only-of-type {\n        vertical-align: middle;\n    }\n\n    .dataframe tbody tr th {\n        vertical-align: top;\n    }\n\n    .dataframe thead th {\n        text-align: right;\n    }\n</style>\n<table border=\"1\" class=\"dataframe\">\n  <thead>\n    <tr style=\"text-align: right;\">\n      <th></th>\n      <th>name</th>\n      <th>state</th>\n      <th>2010</th>\n      <th>2011</th>\n      <th>2012</th>\n      <th>2013</th>\n      <th>2014</th>\n      <th>2015</th>\n      <th>2016</th>\n      <th>2017</th>\n      <th>...</th>\n      <th>2000</th>\n      <th>2001</th>\n      <th>2002</th>\n      <th>2003</th>\n      <th>2004</th>\n      <th>2005</th>\n      <th>2006</th>\n      <th>2007</th>\n      <th>2008</th>\n      <th>2009</th>\n    </tr>\n  </thead>\n  <tbody>\n    <tr>\n      <th>0</th>\n      <td>Alabama</td>\n      <td>Alabama</td>\n      <td>4785437</td>\n      <td>4799069</td>\n      <td>4815588</td>\n      <td>4830081</td>\n      <td>4841799</td>\n      <td>4852347</td>\n      <td>4863525</td>\n      <td>4874486</td>\n      <td>...</td>\n      <td>4452173.0</td>\n      <td>4467634.0</td>\n      <td>4480089.0</td>\n      <td>4503491.0</td>\n      <td>4530729.0</td>\n      <td>4569805.0</td>\n      <td>4628981.0</td>\n      <td>4672840.0</td>\n      <td>4718206.0</td>\n      <td>4757938.0</td>\n    </tr>\n    <tr>\n      <th>1</th>\n      <td>Abbeville city</td>\n      <td>Alabama</td>\n      <td>2699</td>\n      <td>2694</td>\n      <td>2643</td>\n      <td>2628</td>\n      <td>2608</td>\n      <td>2600</td>\n      <td>2584</td>\n      <td>2575</td>\n      <td>...</td>\n      <td>2985.0</td>\n      <td>2941.0</td>\n      <td>2909.0</td>\n      <td>2882.0</td>\n      <td>2857.0</td>\n      <td>2820.0</td>\n      <td>2807.0</td>\n      <td>2784.0</td>\n      <td>2742.0</td>\n      <td>2714.0</td>\n    </tr>\n    <tr>\n      <th>2</th>\n      <td>Adamsville city</td>\n      <td>Alabama</td>\n      <td>4500</td>\n      <td>4493</td>\n      <td>4471</td>\n      <td>4449</td>\n      <td>4420</td>\n      <td>4390</td>\n      <td>4356</td>\n      <td>4327</td>\n      <td>...</td>\n      <td>5021.0</td>\n      <td>4960.0</td>\n      <td>4894.0</td>\n      <td>4841.0</td>\n      <td>4784.0</td>\n      <td>4728.0</td>\n      <td>4687.0</td>\n      <td>4633.0</td>\n      <td>4594.0</td>\n      <td>4558.0</td>\n    </tr>\n    <tr>\n      <th>3</th>\n      <td>Addison town</td>\n      <td>Alabama</td>\n      <td>751</td>\n      <td>750</td>\n      <td>743</td>\n      <td>742</td>\n      <td>739</td>\n      <td>734</td>\n      <td>731</td>\n      <td>726</td>\n      <td>...</td>\n      <td>701.0</td>\n      <td>701.0</td>\n      <td>708.0</td>\n      <td>714.0</td>\n      <td>722.0</td>\n      <td>729.0</td>\n      <td>741.0</td>\n      <td>750.0</td>\n      <td>752.0</td>\n      <td>759.0</td>\n    </tr>\n    <tr>\n      <th>4</th>\n      <td>Akron town</td>\n      <td>Alabama</td>\n      <td>355</td>\n      <td>347</td>\n      <td>347</td>\n      <td>343</td>\n      <td>338</td>\n      <td>339</td>\n      <td>333</td>\n      <td>332</td>\n      <td>...</td>\n      <td>485.0</td>\n      <td>473.0</td>\n      <td>454.0</td>\n      <td>442.0</td>\n      <td>426.0</td>\n      <td>416.0</td>\n      <td>404.0</td>\n      <td>395.0</td>\n      <td>384.0</td>\n      <td>369.0</td>\n    </tr>\n  </tbody>\n</table>\n<p>5 rows × 22 columns</p>\n</div>"
     },
     "metadata": {},
     "execution_count": 31
    }
   ],
   "source": [
    "# merging population data together\n",
    "teens = teens_raw[['NAME', 'STNAME', 'POPESTIMATE2010', 'POPESTIMATE2011',\n",
    "       'POPESTIMATE2012', 'POPESTIMATE2013', 'POPESTIMATE2014',\n",
    "       'POPESTIMATE2015', 'POPESTIMATE2016', 'POPESTIMATE2017',\n",
    "       'POPESTIMATE2018', 'POPESTIMATE2019']]\n",
    "teens.columns = ['name', 'state', '2010', '2011', '2012', '2013', '2014', '2015', '2016', '2017', '2018', '2019']\n",
    "teens = teens.drop_duplicates()\n",
    "\n",
    "aughts = aughts_raw[['NAME', 'STNAME', 'POPESTIMATE2000', 'POPESTIMATE2001',\n",
    "       'POPESTIMATE2002', 'POPESTIMATE2003', 'POPESTIMATE2004',\n",
    "       'POPESTIMATE2005', 'POPESTIMATE2006', 'POPESTIMATE2007',\n",
    "       'POPESTIMATE2008', 'POPESTIMATE2009']]\n",
    "aughts.columns = ['name', 'state', '2000', '2001', '2002', '2003', '2004', '2005', '2006', '2007', '2008', '2009']\n",
    "aughts = aughts.drop_duplicates()\n",
    "\n",
    "merged = teens.merge(aughts, on=['name', 'state'], how='left')\n",
    "merged.head()"
   ]
  },
  {
   "cell_type": "code",
   "execution_count": 32,
   "metadata": {},
   "outputs": [],
   "source": [
    "# creating a feature that will tell if entry is a city, state or county\n",
    "merged['type'] = merged['name']\n",
    "\n",
    "# removing all of the county balances that are not part of any city\n",
    "merged['type'] = merged['type'].apply(lambda x: 'balance' if x.startswith('Balance of') else x)\n",
    "merged = merged[merged['type'] != 'balance']"
   ]
  },
  {
   "cell_type": "code",
   "execution_count": 33,
   "metadata": {},
   "outputs": [
    {
     "output_type": "execute_result",
     "data": {
      "text/plain": [
       "               name    state    2010    2011    2012    2013    2014    2015  \\\n",
       "463  Autauga County  Alabama   54773   55227   54954   54727   54893   54864   \n",
       "469  Baldwin County  Alabama  183112  186558  190145  194885  199183  202939   \n",
       "471  Barbour County  Alabama   27327   27341   27169   26937   26755   26283   \n",
       "473     Bibb County  Alabama   22870   22745   22667   22521   22553   22566   \n",
       "479   Blount County  Alabama   57376   57560   57580   57619   57526   57526   \n",
       "\n",
       "       2016    2017  ...      2000      2001      2002      2003      2004  \\\n",
       "463   55243   55390  ...   44021.0   44889.0   45909.0   46800.0   48366.0   \n",
       "469  207601  212521  ...  141342.0  144875.0  147957.0  151509.0  156266.0   \n",
       "471   25806   25157  ...   29015.0   28863.0   28653.0   28594.0   28287.0   \n",
       "473   22586   22550  ...   19913.0   21028.0   21199.0   21399.0   21721.0   \n",
       "479   57494   57787  ...   51107.0   51845.0   52551.0   53457.0   54124.0   \n",
       "\n",
       "         2005      2006      2007      2008      2009  \n",
       "463   49676.0   51328.0   52405.0   53277.0   54135.0  \n",
       "469  162183.0  168121.0  172404.0  175827.0  179406.0  \n",
       "471   28027.0   27861.0   27757.0   27808.0   27657.0  \n",
       "473   22042.0   22099.0   22438.0   22705.0   22941.0  \n",
       "479   54624.0   55485.0   56240.0   57055.0   57341.0  \n",
       "\n",
       "[5 rows x 22 columns]"
      ],
      "text/html": "<div>\n<style scoped>\n    .dataframe tbody tr th:only-of-type {\n        vertical-align: middle;\n    }\n\n    .dataframe tbody tr th {\n        vertical-align: top;\n    }\n\n    .dataframe thead th {\n        text-align: right;\n    }\n</style>\n<table border=\"1\" class=\"dataframe\">\n  <thead>\n    <tr style=\"text-align: right;\">\n      <th></th>\n      <th>name</th>\n      <th>state</th>\n      <th>2010</th>\n      <th>2011</th>\n      <th>2012</th>\n      <th>2013</th>\n      <th>2014</th>\n      <th>2015</th>\n      <th>2016</th>\n      <th>2017</th>\n      <th>...</th>\n      <th>2000</th>\n      <th>2001</th>\n      <th>2002</th>\n      <th>2003</th>\n      <th>2004</th>\n      <th>2005</th>\n      <th>2006</th>\n      <th>2007</th>\n      <th>2008</th>\n      <th>2009</th>\n    </tr>\n  </thead>\n  <tbody>\n    <tr>\n      <th>463</th>\n      <td>Autauga County</td>\n      <td>Alabama</td>\n      <td>54773</td>\n      <td>55227</td>\n      <td>54954</td>\n      <td>54727</td>\n      <td>54893</td>\n      <td>54864</td>\n      <td>55243</td>\n      <td>55390</td>\n      <td>...</td>\n      <td>44021.0</td>\n      <td>44889.0</td>\n      <td>45909.0</td>\n      <td>46800.0</td>\n      <td>48366.0</td>\n      <td>49676.0</td>\n      <td>51328.0</td>\n      <td>52405.0</td>\n      <td>53277.0</td>\n      <td>54135.0</td>\n    </tr>\n    <tr>\n      <th>469</th>\n      <td>Baldwin County</td>\n      <td>Alabama</td>\n      <td>183112</td>\n      <td>186558</td>\n      <td>190145</td>\n      <td>194885</td>\n      <td>199183</td>\n      <td>202939</td>\n      <td>207601</td>\n      <td>212521</td>\n      <td>...</td>\n      <td>141342.0</td>\n      <td>144875.0</td>\n      <td>147957.0</td>\n      <td>151509.0</td>\n      <td>156266.0</td>\n      <td>162183.0</td>\n      <td>168121.0</td>\n      <td>172404.0</td>\n      <td>175827.0</td>\n      <td>179406.0</td>\n    </tr>\n    <tr>\n      <th>471</th>\n      <td>Barbour County</td>\n      <td>Alabama</td>\n      <td>27327</td>\n      <td>27341</td>\n      <td>27169</td>\n      <td>26937</td>\n      <td>26755</td>\n      <td>26283</td>\n      <td>25806</td>\n      <td>25157</td>\n      <td>...</td>\n      <td>29015.0</td>\n      <td>28863.0</td>\n      <td>28653.0</td>\n      <td>28594.0</td>\n      <td>28287.0</td>\n      <td>28027.0</td>\n      <td>27861.0</td>\n      <td>27757.0</td>\n      <td>27808.0</td>\n      <td>27657.0</td>\n    </tr>\n    <tr>\n      <th>473</th>\n      <td>Bibb County</td>\n      <td>Alabama</td>\n      <td>22870</td>\n      <td>22745</td>\n      <td>22667</td>\n      <td>22521</td>\n      <td>22553</td>\n      <td>22566</td>\n      <td>22586</td>\n      <td>22550</td>\n      <td>...</td>\n      <td>19913.0</td>\n      <td>21028.0</td>\n      <td>21199.0</td>\n      <td>21399.0</td>\n      <td>21721.0</td>\n      <td>22042.0</td>\n      <td>22099.0</td>\n      <td>22438.0</td>\n      <td>22705.0</td>\n      <td>22941.0</td>\n    </tr>\n    <tr>\n      <th>479</th>\n      <td>Blount County</td>\n      <td>Alabama</td>\n      <td>57376</td>\n      <td>57560</td>\n      <td>57580</td>\n      <td>57619</td>\n      <td>57526</td>\n      <td>57526</td>\n      <td>57494</td>\n      <td>57787</td>\n      <td>...</td>\n      <td>51107.0</td>\n      <td>51845.0</td>\n      <td>52551.0</td>\n      <td>53457.0</td>\n      <td>54124.0</td>\n      <td>54624.0</td>\n      <td>55485.0</td>\n      <td>56240.0</td>\n      <td>57055.0</td>\n      <td>57341.0</td>\n    </tr>\n  </tbody>\n</table>\n<p>5 rows × 22 columns</p>\n</div>"
     },
     "metadata": {},
     "execution_count": 33
    }
   ],
   "source": [
    "# seperating out the counties\n",
    "merged['type'] = merged['type'].apply(lambda x: 'county' if x.endswith('County') else x)\n",
    "counties = merged[merged['type'] == 'county']\n",
    "counties = counties.drop('type', axis=1)\n",
    "merged = merged[merged['type'] != 'county']\n",
    "counties.head()"
   ]
  },
  {
   "cell_type": "code",
   "execution_count": 34,
   "metadata": {},
   "outputs": [
    {
     "output_type": "execute_result",
     "data": {
      "text/plain": [
       "            name       state      2010      2011      2012      2013  \\\n",
       "0        Alabama     Alabama   4785437   4799069   4815588   4830081   \n",
       "787       Alaska      Alaska    713910    722128    730443    737068   \n",
       "987      Arizona     Arizona   6407172   6472643   6554978   6632764   \n",
       "1141    Arkansas    Arkansas   2921964   2940667   2952164   2959400   \n",
       "1874  California  California  37319502  37638369  37948800  38260787   \n",
       "\n",
       "          2014      2015      2016      2017  ...        2000        2001  \\\n",
       "0      4841799   4852347   4863525   4874486  ...   4452173.0   4467634.0   \n",
       "787     736283    737498    741456    739700  ...    627963.0    633714.0   \n",
       "987    6730413   6829676   6941072   7044008  ...   5160586.0   5273477.0   \n",
       "1141   2967392   2978048   2989918   3001345  ...   2678588.0   2691571.0   \n",
       "1874  38596972  38918045  39167117  39358497  ...  33987977.0  34479458.0   \n",
       "\n",
       "            2002        2003        2004        2005        2006        2007  \\\n",
       "0      4480089.0   4503491.0   4530729.0   4569805.0   4628981.0   4672840.0   \n",
       "787     642337.0    648414.0    659286.0    666946.0    675302.0    680300.0   \n",
       "987    5396255.0   5510364.0   5652404.0   5839077.0   6029141.0   6167681.0   \n",
       "1141   2705927.0   2724816.0   2749686.0   2781097.0   2821761.0   2848650.0   \n",
       "1874  34871843.0  35253159.0  35574576.0  35827943.0  36021202.0  36250311.0   \n",
       "\n",
       "            2008        2009  \n",
       "0      4718206.0   4757938.0  \n",
       "787     687455.0    698895.0  \n",
       "987    6280362.0   6343154.0  \n",
       "1141   2874554.0   2896843.0  \n",
       "1874  36604337.0  36961229.0  \n",
       "\n",
       "[5 rows x 22 columns]"
      ],
      "text/html": "<div>\n<style scoped>\n    .dataframe tbody tr th:only-of-type {\n        vertical-align: middle;\n    }\n\n    .dataframe tbody tr th {\n        vertical-align: top;\n    }\n\n    .dataframe thead th {\n        text-align: right;\n    }\n</style>\n<table border=\"1\" class=\"dataframe\">\n  <thead>\n    <tr style=\"text-align: right;\">\n      <th></th>\n      <th>name</th>\n      <th>state</th>\n      <th>2010</th>\n      <th>2011</th>\n      <th>2012</th>\n      <th>2013</th>\n      <th>2014</th>\n      <th>2015</th>\n      <th>2016</th>\n      <th>2017</th>\n      <th>...</th>\n      <th>2000</th>\n      <th>2001</th>\n      <th>2002</th>\n      <th>2003</th>\n      <th>2004</th>\n      <th>2005</th>\n      <th>2006</th>\n      <th>2007</th>\n      <th>2008</th>\n      <th>2009</th>\n    </tr>\n  </thead>\n  <tbody>\n    <tr>\n      <th>0</th>\n      <td>Alabama</td>\n      <td>Alabama</td>\n      <td>4785437</td>\n      <td>4799069</td>\n      <td>4815588</td>\n      <td>4830081</td>\n      <td>4841799</td>\n      <td>4852347</td>\n      <td>4863525</td>\n      <td>4874486</td>\n      <td>...</td>\n      <td>4452173.0</td>\n      <td>4467634.0</td>\n      <td>4480089.0</td>\n      <td>4503491.0</td>\n      <td>4530729.0</td>\n      <td>4569805.0</td>\n      <td>4628981.0</td>\n      <td>4672840.0</td>\n      <td>4718206.0</td>\n      <td>4757938.0</td>\n    </tr>\n    <tr>\n      <th>787</th>\n      <td>Alaska</td>\n      <td>Alaska</td>\n      <td>713910</td>\n      <td>722128</td>\n      <td>730443</td>\n      <td>737068</td>\n      <td>736283</td>\n      <td>737498</td>\n      <td>741456</td>\n      <td>739700</td>\n      <td>...</td>\n      <td>627963.0</td>\n      <td>633714.0</td>\n      <td>642337.0</td>\n      <td>648414.0</td>\n      <td>659286.0</td>\n      <td>666946.0</td>\n      <td>675302.0</td>\n      <td>680300.0</td>\n      <td>687455.0</td>\n      <td>698895.0</td>\n    </tr>\n    <tr>\n      <th>987</th>\n      <td>Arizona</td>\n      <td>Arizona</td>\n      <td>6407172</td>\n      <td>6472643</td>\n      <td>6554978</td>\n      <td>6632764</td>\n      <td>6730413</td>\n      <td>6829676</td>\n      <td>6941072</td>\n      <td>7044008</td>\n      <td>...</td>\n      <td>5160586.0</td>\n      <td>5273477.0</td>\n      <td>5396255.0</td>\n      <td>5510364.0</td>\n      <td>5652404.0</td>\n      <td>5839077.0</td>\n      <td>6029141.0</td>\n      <td>6167681.0</td>\n      <td>6280362.0</td>\n      <td>6343154.0</td>\n    </tr>\n    <tr>\n      <th>1141</th>\n      <td>Arkansas</td>\n      <td>Arkansas</td>\n      <td>2921964</td>\n      <td>2940667</td>\n      <td>2952164</td>\n      <td>2959400</td>\n      <td>2967392</td>\n      <td>2978048</td>\n      <td>2989918</td>\n      <td>3001345</td>\n      <td>...</td>\n      <td>2678588.0</td>\n      <td>2691571.0</td>\n      <td>2705927.0</td>\n      <td>2724816.0</td>\n      <td>2749686.0</td>\n      <td>2781097.0</td>\n      <td>2821761.0</td>\n      <td>2848650.0</td>\n      <td>2874554.0</td>\n      <td>2896843.0</td>\n    </tr>\n    <tr>\n      <th>1874</th>\n      <td>California</td>\n      <td>California</td>\n      <td>37319502</td>\n      <td>37638369</td>\n      <td>37948800</td>\n      <td>38260787</td>\n      <td>38596972</td>\n      <td>38918045</td>\n      <td>39167117</td>\n      <td>39358497</td>\n      <td>...</td>\n      <td>33987977.0</td>\n      <td>34479458.0</td>\n      <td>34871843.0</td>\n      <td>35253159.0</td>\n      <td>35574576.0</td>\n      <td>35827943.0</td>\n      <td>36021202.0</td>\n      <td>36250311.0</td>\n      <td>36604337.0</td>\n      <td>36961229.0</td>\n    </tr>\n  </tbody>\n</table>\n<p>5 rows × 22 columns</p>\n</div>"
     },
     "metadata": {},
     "execution_count": 34
    }
   ],
   "source": [
    "# seperating out the states\n",
    "states_list = set(merged['state'].to_list())\n",
    "merged['type'] = merged['type'].apply(lambda x: 'state' if x in states_list else x)\n",
    "states = merged[merged['type'] == 'state']\n",
    "states = states.drop('type', axis=1)\n",
    "merged = merged[merged['type'] != 'state']\n",
    "states.head()"
   ]
  },
  {
   "cell_type": "code",
   "execution_count": 35,
   "metadata": {},
   "outputs": [
    {
     "output_type": "execute_result",
     "data": {
      "text/plain": [
       "         name    state   2010   2011   2012   2013   2014   2015   2016  \\\n",
       "1   Abbeville  Alabama   2699   2694   2643   2628   2608   2600   2584   \n",
       "2  Adamsville  Alabama   4500   4493   4471   4449   4420   4390   4356   \n",
       "3     Addison  Alabama    751    750    743    742    739    734    731   \n",
       "4       Akron  Alabama    355    347    347    343    338    339    333   \n",
       "5   Alabaster  Alabama  31209  31375  31684  31980  32182  32772  33017   \n",
       "\n",
       "    2017  ...     2000     2001     2002     2003     2004     2005     2006  \\\n",
       "1   2575  ...   2985.0   2941.0   2909.0   2882.0   2857.0   2820.0   2807.0   \n",
       "2   4327  ...   5021.0   4960.0   4894.0   4841.0   4784.0   4728.0   4687.0   \n",
       "3    726  ...    701.0    701.0    708.0    714.0    722.0    729.0    741.0   \n",
       "4    332  ...    485.0    473.0    454.0    442.0    426.0    416.0    404.0   \n",
       "5  33275  ...  24116.0  24674.0  25223.0  25957.0  26739.0  27504.0  28462.0   \n",
       "\n",
       "      2007     2008     2009  \n",
       "1   2784.0   2742.0   2714.0  \n",
       "2   4633.0   4594.0   4558.0  \n",
       "3    750.0    752.0    759.0  \n",
       "4    395.0    384.0    369.0  \n",
       "5  29020.0  29630.0  30107.0  \n",
       "\n",
       "[5 rows x 22 columns]"
      ],
      "text/html": "<div>\n<style scoped>\n    .dataframe tbody tr th:only-of-type {\n        vertical-align: middle;\n    }\n\n    .dataframe tbody tr th {\n        vertical-align: top;\n    }\n\n    .dataframe thead th {\n        text-align: right;\n    }\n</style>\n<table border=\"1\" class=\"dataframe\">\n  <thead>\n    <tr style=\"text-align: right;\">\n      <th></th>\n      <th>name</th>\n      <th>state</th>\n      <th>2010</th>\n      <th>2011</th>\n      <th>2012</th>\n      <th>2013</th>\n      <th>2014</th>\n      <th>2015</th>\n      <th>2016</th>\n      <th>2017</th>\n      <th>...</th>\n      <th>2000</th>\n      <th>2001</th>\n      <th>2002</th>\n      <th>2003</th>\n      <th>2004</th>\n      <th>2005</th>\n      <th>2006</th>\n      <th>2007</th>\n      <th>2008</th>\n      <th>2009</th>\n    </tr>\n  </thead>\n  <tbody>\n    <tr>\n      <th>1</th>\n      <td>Abbeville</td>\n      <td>Alabama</td>\n      <td>2699</td>\n      <td>2694</td>\n      <td>2643</td>\n      <td>2628</td>\n      <td>2608</td>\n      <td>2600</td>\n      <td>2584</td>\n      <td>2575</td>\n      <td>...</td>\n      <td>2985.0</td>\n      <td>2941.0</td>\n      <td>2909.0</td>\n      <td>2882.0</td>\n      <td>2857.0</td>\n      <td>2820.0</td>\n      <td>2807.0</td>\n      <td>2784.0</td>\n      <td>2742.0</td>\n      <td>2714.0</td>\n    </tr>\n    <tr>\n      <th>2</th>\n      <td>Adamsville</td>\n      <td>Alabama</td>\n      <td>4500</td>\n      <td>4493</td>\n      <td>4471</td>\n      <td>4449</td>\n      <td>4420</td>\n      <td>4390</td>\n      <td>4356</td>\n      <td>4327</td>\n      <td>...</td>\n      <td>5021.0</td>\n      <td>4960.0</td>\n      <td>4894.0</td>\n      <td>4841.0</td>\n      <td>4784.0</td>\n      <td>4728.0</td>\n      <td>4687.0</td>\n      <td>4633.0</td>\n      <td>4594.0</td>\n      <td>4558.0</td>\n    </tr>\n    <tr>\n      <th>3</th>\n      <td>Addison</td>\n      <td>Alabama</td>\n      <td>751</td>\n      <td>750</td>\n      <td>743</td>\n      <td>742</td>\n      <td>739</td>\n      <td>734</td>\n      <td>731</td>\n      <td>726</td>\n      <td>...</td>\n      <td>701.0</td>\n      <td>701.0</td>\n      <td>708.0</td>\n      <td>714.0</td>\n      <td>722.0</td>\n      <td>729.0</td>\n      <td>741.0</td>\n      <td>750.0</td>\n      <td>752.0</td>\n      <td>759.0</td>\n    </tr>\n    <tr>\n      <th>4</th>\n      <td>Akron</td>\n      <td>Alabama</td>\n      <td>355</td>\n      <td>347</td>\n      <td>347</td>\n      <td>343</td>\n      <td>338</td>\n      <td>339</td>\n      <td>333</td>\n      <td>332</td>\n      <td>...</td>\n      <td>485.0</td>\n      <td>473.0</td>\n      <td>454.0</td>\n      <td>442.0</td>\n      <td>426.0</td>\n      <td>416.0</td>\n      <td>404.0</td>\n      <td>395.0</td>\n      <td>384.0</td>\n      <td>369.0</td>\n    </tr>\n    <tr>\n      <th>5</th>\n      <td>Alabaster</td>\n      <td>Alabama</td>\n      <td>31209</td>\n      <td>31375</td>\n      <td>31684</td>\n      <td>31980</td>\n      <td>32182</td>\n      <td>32772</td>\n      <td>33017</td>\n      <td>33275</td>\n      <td>...</td>\n      <td>24116.0</td>\n      <td>24674.0</td>\n      <td>25223.0</td>\n      <td>25957.0</td>\n      <td>26739.0</td>\n      <td>27504.0</td>\n      <td>28462.0</td>\n      <td>29020.0</td>\n      <td>29630.0</td>\n      <td>30107.0</td>\n    </tr>\n  </tbody>\n</table>\n<p>5 rows × 22 columns</p>\n</div>"
     },
     "metadata": {},
     "execution_count": 35
    }
   ],
   "source": [
    "# seperating out the cities\n",
    "types_that_are_cities = ['city', 'town', 'village']\n",
    "merged['type'] = merged['name']\n",
    "merged['type'] = merged['type'].apply(lambda x: 'city' if x.split()[-1] in types_that_are_cities else x)\n",
    "cities = merged[merged['type'] == 'city']\n",
    "cities = cities.drop('type', axis=1)\n",
    "cities['name'] = cities['name'].apply(lambda x: x.replace(' city', ''))\n",
    "cities['name'] = cities['name'].apply(lambda x: x.replace(' town', ''))\n",
    "cities['name'] = cities['name'].apply(lambda x: x.replace(' village', ''))\n",
    "cities.head()"
   ]
  },
  {
   "cell_type": "code",
   "execution_count": 36,
   "metadata": {},
   "outputs": [
    {
     "output_type": "execute_result",
     "data": {
      "text/plain": [
       "  county_id     county_name state_id\n",
       "0     01001  Autauga County       01\n",
       "1     01003  Baldwin County       01\n",
       "2     01005  Barbour County       01\n",
       "3     01007     Bibb County       01\n",
       "4     01009   Blount County       01"
      ],
      "text/html": "<div>\n<style scoped>\n    .dataframe tbody tr th:only-of-type {\n        vertical-align: middle;\n    }\n\n    .dataframe tbody tr th {\n        vertical-align: top;\n    }\n\n    .dataframe thead th {\n        text-align: right;\n    }\n</style>\n<table border=\"1\" class=\"dataframe\">\n  <thead>\n    <tr style=\"text-align: right;\">\n      <th></th>\n      <th>county_id</th>\n      <th>county_name</th>\n      <th>state_id</th>\n    </tr>\n  </thead>\n  <tbody>\n    <tr>\n      <th>0</th>\n      <td>01001</td>\n      <td>Autauga County</td>\n      <td>01</td>\n    </tr>\n    <tr>\n      <th>1</th>\n      <td>01003</td>\n      <td>Baldwin County</td>\n      <td>01</td>\n    </tr>\n    <tr>\n      <th>2</th>\n      <td>01005</td>\n      <td>Barbour County</td>\n      <td>01</td>\n    </tr>\n    <tr>\n      <th>3</th>\n      <td>01007</td>\n      <td>Bibb County</td>\n      <td>01</td>\n    </tr>\n    <tr>\n      <th>4</th>\n      <td>01009</td>\n      <td>Blount County</td>\n      <td>01</td>\n    </tr>\n  </tbody>\n</table>\n</div>"
     },
     "metadata": {},
     "execution_count": 36
    }
   ],
   "source": [
    "# creating the basic county data\n",
    "county_names = counties[['name', 'state']]\n",
    "county_names.columns = ['county_name', 'state_name']\n",
    "\n",
    "county_id = raw_teens[['STATE', 'COUNTY', 'NAME', 'STNAME']]\n",
    "county_id['STATE'] = county_id['STATE'].apply(lambda x: str(x).zfill(2))\n",
    "county_id['COUNTY'] = county_id['COUNTY'].apply(lambda x: str(x).zfill(3))\n",
    "county_id['county_id'] = county_id['STATE'] + county_id['COUNTY']\n",
    "county_id = county_id[['STATE', 'NAME', 'STNAME', 'county_id']]\n",
    "county_id.columns = ['state_id', 'county_name', 'state_name', 'county_id']\n",
    "county_basic = county_names.merge(county_id, on=['county_name', 'state_name'], how='left')\n",
    "county_basic = county_basic[['county_id', 'county_name', 'state_id']]\n",
    "\n",
    "# saving to local file before adding to db\n",
    "FILE_PATH = os.path.join(os.getcwd(), '..', 'clean_data', 'county_basic.csv')\n",
    "county_basic.to_csv(FILE_PATH, index=False)\n",
    "\n",
    "# displaying df\n",
    "county_basic.head()"
   ]
  },
  {
   "cell_type": "code",
   "execution_count": 37,
   "metadata": {},
   "outputs": [
    {
     "output_type": "execute_result",
     "data": {
      "text/plain": [
       "   state_name state_id state_abbreviation\n",
       "0     Alabama       01                 AL\n",
       "1      Alaska       02                 AK\n",
       "2     Arizona       04                 AZ\n",
       "3    Arkansas       05                 AR\n",
       "4  California       06                 CA"
      ],
      "text/html": "<div>\n<style scoped>\n    .dataframe tbody tr th:only-of-type {\n        vertical-align: middle;\n    }\n\n    .dataframe tbody tr th {\n        vertical-align: top;\n    }\n\n    .dataframe thead th {\n        text-align: right;\n    }\n</style>\n<table border=\"1\" class=\"dataframe\">\n  <thead>\n    <tr style=\"text-align: right;\">\n      <th></th>\n      <th>state_name</th>\n      <th>state_id</th>\n      <th>state_abbreviation</th>\n    </tr>\n  </thead>\n  <tbody>\n    <tr>\n      <th>0</th>\n      <td>Alabama</td>\n      <td>01</td>\n      <td>AL</td>\n    </tr>\n    <tr>\n      <th>1</th>\n      <td>Alaska</td>\n      <td>02</td>\n      <td>AK</td>\n    </tr>\n    <tr>\n      <th>2</th>\n      <td>Arizona</td>\n      <td>04</td>\n      <td>AZ</td>\n    </tr>\n    <tr>\n      <th>3</th>\n      <td>Arkansas</td>\n      <td>05</td>\n      <td>AR</td>\n    </tr>\n    <tr>\n      <th>4</th>\n      <td>California</td>\n      <td>06</td>\n      <td>CA</td>\n    </tr>\n  </tbody>\n</table>\n</div>"
     },
     "metadata": {},
     "execution_count": 37
    }
   ],
   "source": [
    "# creating the basic state data\n",
    "state_names = states[['state']]\n",
    "state_names.columns = ['state_name']\n",
    "\n",
    "state_id = raw_teens[['STATE', 'STNAME']]\n",
    "state_id.columns = ['state_id', 'state_name']\n",
    "\n",
    "state_basic = state_names.merge(state_id, on='state_name', how='left')\n",
    "state_basic = state_basic.drop_duplicates(ignore_index=True)\n",
    "state_basic['state_id'] = state_basic['state_id'].apply(lambda x: str(x).zfill(2))\n",
    "\n",
    "# adding in abbreviations\n",
    "state_abbreviations = {\n",
    "    'Alabama': 'AL',\n",
    "    'Alaska': 'AK',\n",
    "    'American Samoa': 'AS',\n",
    "    'Arizona': 'AZ',\n",
    "    'Arkansas': 'AR',\n",
    "    'California': 'CA',\n",
    "    'Colorado': 'CO',\n",
    "    'Connecticut': 'CT',\n",
    "    'Delaware': 'DE',\n",
    "    'District of Columbia': 'DC',\n",
    "    'Florida': 'FL',\n",
    "    'Georgia': 'GA',\n",
    "    'Guam': 'GU',\n",
    "    'Hawaii': 'HI',\n",
    "    'Idaho': 'ID',\n",
    "    'Illinois': 'IL',\n",
    "    'Indiana': 'IN',\n",
    "    'Iowa': 'IA',\n",
    "    'Kansas': 'KS',\n",
    "    'Kentucky': 'KY',\n",
    "    'Louisiana': 'LA',\n",
    "    'Maine': 'ME',\n",
    "    'Maryland': 'MD',\n",
    "    'Massachusetts': 'MA',\n",
    "    'Michigan': 'MI',\n",
    "    'Minnesota': 'MN',\n",
    "    'Mississippi': 'MS',\n",
    "    'Missouri': 'MO',\n",
    "    'Montana': 'MT',\n",
    "    'Nebraska': 'NE',\n",
    "    'Nevada': 'NV',\n",
    "    'New Hampshire': 'NH',\n",
    "    'New Jersey': 'NJ',\n",
    "    'New Mexico': 'NM',\n",
    "    'New York': 'NY',\n",
    "    'North Carolina': 'NC',\n",
    "    'North Dakota': 'ND',\n",
    "    'Northern Mariana Islands':'MP',\n",
    "    'Ohio': 'OH',\n",
    "    'Oklahoma': 'OK',\n",
    "    'Oregon': 'OR',\n",
    "    'Pennsylvania': 'PA',\n",
    "    'Puerto Rico': 'PR',\n",
    "    'Rhode Island': 'RI',\n",
    "    'South Carolina': 'SC',\n",
    "    'South Dakota': 'SD',\n",
    "    'Tennessee': 'TN',\n",
    "    'Texas': 'TX',\n",
    "    'Utah': 'UT',\n",
    "    'Vermont': 'VT',\n",
    "    'Virgin Islands': 'VI',\n",
    "    'Virginia': 'VA',\n",
    "    'Washington': 'WA',\n",
    "    'West Virginia': 'WV',\n",
    "    'Wisconsin': 'WI',\n",
    "    'Wyoming': 'WY'\n",
    "}\n",
    "\n",
    "state_basic['state_abbreviation'] = state_basic['state_name'].map(state_abbreviations)\n",
    "\n",
    "# saving to local file before adding to db\n",
    "FILE_PATH = os.path.join(os.getcwd(), '..', 'clean_data', 'state_basic.csv')\n",
    "state_basic.to_csv(FILE_PATH, index=False)\n",
    "\n",
    "# displaying df\n",
    "state_basic.head()"
   ]
  },
  {
   "cell_type": "code",
   "execution_count": 38,
   "metadata": {},
   "outputs": [
    {
     "output_type": "execute_result",
     "data": {
      "text/plain": [
       "    city_id   city_name county_id state_id  land_sqmi  water_sqmi   latitude  \\\n",
       "0  01-00124   Abbeville     01067       01     15.543       0.042  31.564724   \n",
       "1  01-00460  Adamsville     01073       01     26.215       0.209  33.602315   \n",
       "2  01-00484     Addison     01133       01      3.766       0.032  34.202681   \n",
       "3  01-00676       Akron     01065       01      0.686       0.005  32.879066   \n",
       "4  01-00820   Alabaster     01117       01     25.279       0.314  33.244399   \n",
       "\n",
       "   longitude  \n",
       "0 -85.259123  \n",
       "1 -86.971527  \n",
       "2 -87.178004  \n",
       "3 -87.740899  \n",
       "4 -86.847372  "
      ],
      "text/html": "<div>\n<style scoped>\n    .dataframe tbody tr th:only-of-type {\n        vertical-align: middle;\n    }\n\n    .dataframe tbody tr th {\n        vertical-align: top;\n    }\n\n    .dataframe thead th {\n        text-align: right;\n    }\n</style>\n<table border=\"1\" class=\"dataframe\">\n  <thead>\n    <tr style=\"text-align: right;\">\n      <th></th>\n      <th>city_id</th>\n      <th>city_name</th>\n      <th>county_id</th>\n      <th>state_id</th>\n      <th>land_sqmi</th>\n      <th>water_sqmi</th>\n      <th>latitude</th>\n      <th>longitude</th>\n    </tr>\n  </thead>\n  <tbody>\n    <tr>\n      <th>0</th>\n      <td>01-00124</td>\n      <td>Abbeville</td>\n      <td>01067</td>\n      <td>01</td>\n      <td>15.543</td>\n      <td>0.042</td>\n      <td>31.564724</td>\n      <td>-85.259123</td>\n    </tr>\n    <tr>\n      <th>1</th>\n      <td>01-00460</td>\n      <td>Adamsville</td>\n      <td>01073</td>\n      <td>01</td>\n      <td>26.215</td>\n      <td>0.209</td>\n      <td>33.602315</td>\n      <td>-86.971527</td>\n    </tr>\n    <tr>\n      <th>2</th>\n      <td>01-00484</td>\n      <td>Addison</td>\n      <td>01133</td>\n      <td>01</td>\n      <td>3.766</td>\n      <td>0.032</td>\n      <td>34.202681</td>\n      <td>-87.178004</td>\n    </tr>\n    <tr>\n      <th>3</th>\n      <td>01-00676</td>\n      <td>Akron</td>\n      <td>01065</td>\n      <td>01</td>\n      <td>0.686</td>\n      <td>0.005</td>\n      <td>32.879066</td>\n      <td>-87.740899</td>\n    </tr>\n    <tr>\n      <th>4</th>\n      <td>01-00820</td>\n      <td>Alabaster</td>\n      <td>01117</td>\n      <td>01</td>\n      <td>25.279</td>\n      <td>0.314</td>\n      <td>33.244399</td>\n      <td>-86.847372</td>\n    </tr>\n  </tbody>\n</table>\n</div>"
     },
     "metadata": {},
     "execution_count": 38
    }
   ],
   "source": [
    "# creating basic city data\n",
    "city_names = cities[['name', 'state']]\n",
    "city_names.columns = ['city_name', 'state_name']\n",
    "\n",
    "city_id = raw_teens[['STATE', 'COUNTY', 'PLACE', 'NAME', 'STNAME']]\n",
    "city_id['STATE'] = city_id['STATE'].apply(lambda x: str(x).zfill(2))\n",
    "city_id['COUNTY'] = city_id['COUNTY'].apply(lambda x: str(x).zfill(3))\n",
    "city_id['county_id'] = city_id['STATE'] + city_id['COUNTY']\n",
    "city_id['NAME'] = city_id['NAME'].apply(lambda x: x.replace(' city', ''))\n",
    "city_id['NAME'] = city_id['NAME'].apply(lambda x: x.replace(' town', ''))\n",
    "city_id['NAME'] = city_id['NAME'].apply(lambda x: x.replace(' village', ''))\n",
    "city_id.columns = ['state_id', 'COUNTY', 'PLACE', 'city_name', 'state_name', 'county_id']\n",
    "city_basic = city_names.merge(city_id, on=['city_name', 'state_name'])\n",
    "city_basic = city_basic.drop_duplicates()\n",
    "city_basic = city_basic[city_basic['COUNTY'] != '000']\n",
    "city_basic['PLACE'] = city_basic['PLACE'].apply(lambda x: str(x).zfill(5))\n",
    "city_basic['city_id'] = city_basic['state_id'] + '-' + city_basic['PLACE']\n",
    "city_basic = city_basic[['city_id', 'city_name', 'county_id', 'state_id']]\n",
    "\n",
    "# adding in latitude and longitude\n",
    "city_geographic = city_geographic_raw[['USPS', 'NAME', 'ALAND_SQMI', 'AWATER_SQMI', 'INTPTLAT', 'INTPTLONG                                                                                                 ']]\n",
    "city_geographic.columns = ['state_abbreviation', 'city_name', 'land_sqmi', 'water_sqmi', 'latitude', 'longitude']\n",
    "city_geographic = city_geographic.merge(state_basic, on='state_abbreviation')\n",
    "city_geographic = city_geographic.drop(['state_abbreviation', 'state_name'], axis=1)\n",
    "city_geographic['type'] = city_geographic['city_name']\n",
    "types_that_are_cities = ['city', 'town', 'village']\n",
    "city_geographic['type'] = city_geographic['type'].apply(lambda x: 'city' if x.split()[-1] in types_that_are_cities else x)\n",
    "city_geographic = city_geographic[city_geographic['type'] == 'city']\n",
    "city_geographic['city_name'] = city_geographic['city_name'].apply(lambda x: x.replace(' city', ''))\n",
    "city_geographic['city_name'] = city_geographic['city_name'].apply(lambda x: x.replace(' town', ''))\n",
    "city_geographic['city_name'] = city_geographic['city_name'].apply(lambda x: x.replace(' village', ''))\n",
    "city_geographic = city_geographic.drop('type', axis=1)\n",
    "\n",
    "city_basic = city_basic.merge(city_geographic, on=['city_name', 'state_id'])\n",
    "\n",
    "# saving to local file before adding to db\n",
    "FILE_PATH = os.path.join(os.getcwd(), '..', 'clean_data', 'city_basic.csv')\n",
    "city_basic.to_csv(FILE_PATH, index=False)\n",
    "\n",
    "#displaying df\n",
    "city_basic.head()"
   ]
  },
  {
   "cell_type": "code",
   "execution_count": 39,
   "metadata": {},
   "outputs": [],
   "source": [
    "# creating county population\n",
    "county_population = counties[['name', 'state', '2000', '2001', '2002', '2003', '2004',\n",
    "                                '2005', '2006', '2007', '2008', '2009', '2010', '2011',\n",
    "                                '2012', '2013', '2014', '2015', '2016', '2017', '2018', '2019']]"
   ]
  },
  {
   "cell_type": "code",
   "execution_count": 40,
   "metadata": {},
   "outputs": [],
   "source": [
    "# creating state population\n",
    "state_population = states[['state', '2000', '2001', '2002', '2003', '2004',\n",
    "                                '2005', '2006', '2007', '2008', '2009', '2010', '2011',\n",
    "                                '2012', '2013', '2014', '2015', '2016', '2017', '2018', '2019']]"
   ]
  },
  {
   "cell_type": "code",
   "execution_count": 41,
   "metadata": {},
   "outputs": [],
   "source": [
    "# creating city population\n",
    "city_population = cities[['name', 'state', '2000', '2001', '2002', '2003', '2004',\n",
    "                                '2005', '2006', '2007', '2008', '2009', '2010', '2011',\n",
    "                                '2012', '2013', '2014', '2015', '2016', '2017', '2018', '2019']]"
   ]
  }
 ]
}