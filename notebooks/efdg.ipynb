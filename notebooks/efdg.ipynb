{
 "metadata": {
  "language_info": {
   "codemirror_mode": {
    "name": "ipython",
    "version": 3
   },
   "file_extension": ".py",
   "mimetype": "text/x-python",
   "name": "python",
   "nbconvert_exporter": "python",
   "pygments_lexer": "ipython3",
   "version": "3.8.5-final"
  },
  "orig_nbformat": 2,
  "kernelspec": {
   "name": "python3",
   "display_name": "Python 3",
   "language": "python"
  }
 },
 "nbformat": 4,
 "nbformat_minor": 2,
 "cells": [
  {
   "cell_type": "code",
   "execution_count": 74,
   "metadata": {},
   "outputs": [],
   "source": [
    "# imports\n",
    "import os\n",
    "import pandas as pd"
   ]
  },
  {
   "cell_type": "code",
   "execution_count": 83,
   "metadata": {},
   "outputs": [
    {
     "output_type": "execute_result",
     "data": {
      "text/plain": [
       "  state_name            city_name population violent_crime  \\\n",
       "0   ALABAMA3               Hoover     85,670           114   \n",
       "1     ALASKA            Anchorage    287,731         3,581   \n",
       "2        NaN               Bethel      6,544           130   \n",
       "3        NaN  Bristol Bay Borough        852             2   \n",
       "4        NaN              Cordova      2,150             0   \n",
       "\n",
       "   murder_and_nonnegligent_homicide rape robbery aggravated_assault  \\\n",
       "0                               4.0   15      27                 68   \n",
       "1                              32.0  540     621              2,388   \n",
       "2                               1.0   47       3                 79   \n",
       "3                               0.0    0       0                  2   \n",
       "4                               0.0    0       0                  0   \n",
       "\n",
       "  property_crime burglary larceny_theft motor_vehicle_theft arson  \n",
       "0          1,922      128         1,694                 100     2  \n",
       "1         12,261    1,692         9,038               1,531    93  \n",
       "2            132       20            84                  28    12  \n",
       "3             20        5             8                   7     0  \n",
       "4              7        1             6                   0     0  "
      ],
      "text/html": "<div>\n<style scoped>\n    .dataframe tbody tr th:only-of-type {\n        vertical-align: middle;\n    }\n\n    .dataframe tbody tr th {\n        vertical-align: top;\n    }\n\n    .dataframe thead th {\n        text-align: right;\n    }\n</style>\n<table border=\"1\" class=\"dataframe\">\n  <thead>\n    <tr style=\"text-align: right;\">\n      <th></th>\n      <th>state_name</th>\n      <th>city_name</th>\n      <th>population</th>\n      <th>violent_crime</th>\n      <th>murder_and_nonnegligent_homicide</th>\n      <th>rape</th>\n      <th>robbery</th>\n      <th>aggravated_assault</th>\n      <th>property_crime</th>\n      <th>burglary</th>\n      <th>larceny_theft</th>\n      <th>motor_vehicle_theft</th>\n      <th>arson</th>\n    </tr>\n  </thead>\n  <tbody>\n    <tr>\n      <th>0</th>\n      <td>ALABAMA3</td>\n      <td>Hoover</td>\n      <td>85,670</td>\n      <td>114</td>\n      <td>4.0</td>\n      <td>15</td>\n      <td>27</td>\n      <td>68</td>\n      <td>1,922</td>\n      <td>128</td>\n      <td>1,694</td>\n      <td>100</td>\n      <td>2</td>\n    </tr>\n    <tr>\n      <th>1</th>\n      <td>ALASKA</td>\n      <td>Anchorage</td>\n      <td>287,731</td>\n      <td>3,581</td>\n      <td>32.0</td>\n      <td>540</td>\n      <td>621</td>\n      <td>2,388</td>\n      <td>12,261</td>\n      <td>1,692</td>\n      <td>9,038</td>\n      <td>1,531</td>\n      <td>93</td>\n    </tr>\n    <tr>\n      <th>2</th>\n      <td>NaN</td>\n      <td>Bethel</td>\n      <td>6,544</td>\n      <td>130</td>\n      <td>1.0</td>\n      <td>47</td>\n      <td>3</td>\n      <td>79</td>\n      <td>132</td>\n      <td>20</td>\n      <td>84</td>\n      <td>28</td>\n      <td>12</td>\n    </tr>\n    <tr>\n      <th>3</th>\n      <td>NaN</td>\n      <td>Bristol Bay Borough</td>\n      <td>852</td>\n      <td>2</td>\n      <td>0.0</td>\n      <td>0</td>\n      <td>0</td>\n      <td>2</td>\n      <td>20</td>\n      <td>5</td>\n      <td>8</td>\n      <td>7</td>\n      <td>0</td>\n    </tr>\n    <tr>\n      <th>4</th>\n      <td>NaN</td>\n      <td>Cordova</td>\n      <td>2,150</td>\n      <td>0</td>\n      <td>0.0</td>\n      <td>0</td>\n      <td>0</td>\n      <td>0</td>\n      <td>7</td>\n      <td>1</td>\n      <td>6</td>\n      <td>0</td>\n      <td>0</td>\n    </tr>\n  </tbody>\n</table>\n</div>"
     },
     "metadata": {},
     "execution_count": 83
    }
   ],
   "source": [
    "# reading in the data\n",
    "year = 2019\n",
    "FILE_PATH = os.path.join(os.getcwd(), '..', 'raw_data', f'city_crime_data_{year}.csv')\n",
    "df = pd.read_csv(FILE_PATH, skiprows=3, skipfooter=8)\n",
    "df.columns = ['state_name', 'city_name', 'population', 'violent_crime', 'murder_and_nonnegligent_homicide',\n",
    "                'rape', 'robbery', 'aggravated_assault', 'property_crime', 'burglary',\n",
    "                'larceny_theft', 'motor_vehicle_theft', 'arson']\n",
    "df.head()"
   ]
  },
  {
   "cell_type": "code",
   "execution_count": 84,
   "metadata": {},
   "outputs": [],
   "source": [
    "# basic cleaning\n",
    "df['state_name'] = df['state_name'].fillna(method='ffill')\n",
    "df['state_name'] = df['state_name'].apply(lambda x: ''.join([letter for letter in x if not letter.isdigit()]))\n",
    "df['state_name'] = df['state_name'].apply(lambda x: x.capitalize())\n",
    "df['city_name'] = df['city_name'].apply(lambda x: ''.join([letter for letter in x if not letter.isdigit()]))\n",
    "df = df.fillna('n/a')\n",
    "for column in df.columns[2:]:\n",
    "    df[f'{column}'] = df[f'{column}'].apply(lambda x: str(x))\n",
    "    df[f'{column}'] = df[f'{column}'].apply(lambda x: float(x.replace(',', '')) if x != 'n/a' else x)\n"
   ]
  },
  {
   "cell_type": "code",
   "execution_count": 87,
   "metadata": {},
   "outputs": [
    {
     "output_type": "execute_result",
     "data": {
      "text/plain": [
       "     state_name            city_name population violent_crime  \\\n",
       "0       Alabama               Hoover      85670           114   \n",
       "1        Alaska            Anchorage     287731          3581   \n",
       "2        Alaska               Bethel       6544           130   \n",
       "3        Alaska  Bristol Bay Borough        852             2   \n",
       "4        Alaska              Cordova       2150             0   \n",
       "...         ...                  ...        ...           ...   \n",
       "8100    Wyoming             Sheridan      17895             9   \n",
       "8101    Wyoming          Thermopolis       2830            13   \n",
       "8102    Wyoming           Torrington       6709            13   \n",
       "8103    Wyoming            Wheatland       3544             7   \n",
       "8104    Wyoming              Worland       5026             8   \n",
       "\n",
       "     murder_and_nonnegligent_homicide rape robbery aggravated_assault  \\\n",
       "0                                   4   15      27                 68   \n",
       "1                                  32  540     621               2388   \n",
       "2                                   1   47       3                 79   \n",
       "3                                   0    0       0                  2   \n",
       "4                                   0    0       0                  0   \n",
       "...                               ...  ...     ...                ...   \n",
       "8100                                0    4       0                  5   \n",
       "8101                                0    0       0                 13   \n",
       "8102                                0    4       1                  8   \n",
       "8103                                0    1       0                  6   \n",
       "8104                                0    5       0                  3   \n",
       "\n",
       "     property_crime burglary larceny_theft motor_vehicle_theft arson  \n",
       "0              1922      128          1694                 100     2  \n",
       "1             12261     1692          9038                1531    93  \n",
       "2               132       20            84                  28    12  \n",
       "3                20        5             8                   7     0  \n",
       "4                 7        1             6                   0     0  \n",
       "...             ...      ...           ...                 ...   ...  \n",
       "8100            369       75           278                  16     3  \n",
       "8101             34        7            22                   5     0  \n",
       "8102             48        8            40                   0     0  \n",
       "8103             72       24            45                   3     0  \n",
       "8104             36        6            30                   0     0  \n",
       "\n",
       "[8105 rows x 13 columns]"
      ],
      "text/html": "<div>\n<style scoped>\n    .dataframe tbody tr th:only-of-type {\n        vertical-align: middle;\n    }\n\n    .dataframe tbody tr th {\n        vertical-align: top;\n    }\n\n    .dataframe thead th {\n        text-align: right;\n    }\n</style>\n<table border=\"1\" class=\"dataframe\">\n  <thead>\n    <tr style=\"text-align: right;\">\n      <th></th>\n      <th>state_name</th>\n      <th>city_name</th>\n      <th>population</th>\n      <th>violent_crime</th>\n      <th>murder_and_nonnegligent_homicide</th>\n      <th>rape</th>\n      <th>robbery</th>\n      <th>aggravated_assault</th>\n      <th>property_crime</th>\n      <th>burglary</th>\n      <th>larceny_theft</th>\n      <th>motor_vehicle_theft</th>\n      <th>arson</th>\n    </tr>\n  </thead>\n  <tbody>\n    <tr>\n      <th>0</th>\n      <td>Alabama</td>\n      <td>Hoover</td>\n      <td>85670</td>\n      <td>114</td>\n      <td>4</td>\n      <td>15</td>\n      <td>27</td>\n      <td>68</td>\n      <td>1922</td>\n      <td>128</td>\n      <td>1694</td>\n      <td>100</td>\n      <td>2</td>\n    </tr>\n    <tr>\n      <th>1</th>\n      <td>Alaska</td>\n      <td>Anchorage</td>\n      <td>287731</td>\n      <td>3581</td>\n      <td>32</td>\n      <td>540</td>\n      <td>621</td>\n      <td>2388</td>\n      <td>12261</td>\n      <td>1692</td>\n      <td>9038</td>\n      <td>1531</td>\n      <td>93</td>\n    </tr>\n    <tr>\n      <th>2</th>\n      <td>Alaska</td>\n      <td>Bethel</td>\n      <td>6544</td>\n      <td>130</td>\n      <td>1</td>\n      <td>47</td>\n      <td>3</td>\n      <td>79</td>\n      <td>132</td>\n      <td>20</td>\n      <td>84</td>\n      <td>28</td>\n      <td>12</td>\n    </tr>\n    <tr>\n      <th>3</th>\n      <td>Alaska</td>\n      <td>Bristol Bay Borough</td>\n      <td>852</td>\n      <td>2</td>\n      <td>0</td>\n      <td>0</td>\n      <td>0</td>\n      <td>2</td>\n      <td>20</td>\n      <td>5</td>\n      <td>8</td>\n      <td>7</td>\n      <td>0</td>\n    </tr>\n    <tr>\n      <th>4</th>\n      <td>Alaska</td>\n      <td>Cordova</td>\n      <td>2150</td>\n      <td>0</td>\n      <td>0</td>\n      <td>0</td>\n      <td>0</td>\n      <td>0</td>\n      <td>7</td>\n      <td>1</td>\n      <td>6</td>\n      <td>0</td>\n      <td>0</td>\n    </tr>\n    <tr>\n      <th>...</th>\n      <td>...</td>\n      <td>...</td>\n      <td>...</td>\n      <td>...</td>\n      <td>...</td>\n      <td>...</td>\n      <td>...</td>\n      <td>...</td>\n      <td>...</td>\n      <td>...</td>\n      <td>...</td>\n      <td>...</td>\n      <td>...</td>\n    </tr>\n    <tr>\n      <th>8100</th>\n      <td>Wyoming</td>\n      <td>Sheridan</td>\n      <td>17895</td>\n      <td>9</td>\n      <td>0</td>\n      <td>4</td>\n      <td>0</td>\n      <td>5</td>\n      <td>369</td>\n      <td>75</td>\n      <td>278</td>\n      <td>16</td>\n      <td>3</td>\n    </tr>\n    <tr>\n      <th>8101</th>\n      <td>Wyoming</td>\n      <td>Thermopolis</td>\n      <td>2830</td>\n      <td>13</td>\n      <td>0</td>\n      <td>0</td>\n      <td>0</td>\n      <td>13</td>\n      <td>34</td>\n      <td>7</td>\n      <td>22</td>\n      <td>5</td>\n      <td>0</td>\n    </tr>\n    <tr>\n      <th>8102</th>\n      <td>Wyoming</td>\n      <td>Torrington</td>\n      <td>6709</td>\n      <td>13</td>\n      <td>0</td>\n      <td>4</td>\n      <td>1</td>\n      <td>8</td>\n      <td>48</td>\n      <td>8</td>\n      <td>40</td>\n      <td>0</td>\n      <td>0</td>\n    </tr>\n    <tr>\n      <th>8103</th>\n      <td>Wyoming</td>\n      <td>Wheatland</td>\n      <td>3544</td>\n      <td>7</td>\n      <td>0</td>\n      <td>1</td>\n      <td>0</td>\n      <td>6</td>\n      <td>72</td>\n      <td>24</td>\n      <td>45</td>\n      <td>3</td>\n      <td>0</td>\n    </tr>\n    <tr>\n      <th>8104</th>\n      <td>Wyoming</td>\n      <td>Worland</td>\n      <td>5026</td>\n      <td>8</td>\n      <td>0</td>\n      <td>5</td>\n      <td>0</td>\n      <td>3</td>\n      <td>36</td>\n      <td>6</td>\n      <td>30</td>\n      <td>0</td>\n      <td>0</td>\n    </tr>\n  </tbody>\n</table>\n<p>8105 rows × 13 columns</p>\n</div>"
     },
     "metadata": {},
     "execution_count": 87
    }
   ],
   "source": [
    "df"
   ]
  },
  {
   "cell_type": "code",
   "execution_count": null,
   "metadata": {},
   "outputs": [],
   "source": []
  }
 ]
}